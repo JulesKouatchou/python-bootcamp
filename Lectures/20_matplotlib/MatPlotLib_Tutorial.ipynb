{
 "metadata": {
  "name": ""
 },
 "nbformat": 3,
 "nbformat_minor": 0,
 "worksheets": [
  {
   "cells": [
    {
     "cell_type": "markdown",
     "metadata": {
      "slideshow": {
       "slide_type": "slide"
      }
     },
     "source": [
      "<h1>matplotlib Tutorial</h1>\n",
      "\n",
      "<h1>Reproducible, attractive plots with Python</h1>\n",
      "\n",
      "<center>\n",
      "\n",
      "<p class=\"gap05\"<p>\n",
      "<h2>[matplotlib.org](http://matplotlib.org)</h2>\n",
      "\n",
      "<p class=\"gap05\"<p>\n",
      "<h3> Christopher Klein </h3>\n",
      "\n",
      "<h3>U.C. Berkeley</h3>\n",
      "\n",
      "<p class=\"gap2\"<p>\n",
      "</center>"
     ]
    },
    {
     "cell_type": "code",
     "collapsed": false,
     "input": [
      "import numpy as np # we'll be using this a lot"
     ],
     "language": "python",
     "metadata": {
      "slideshow": {
       "slide_type": "skip"
      }
     },
     "outputs": []
    },
    {
     "cell_type": "markdown",
     "metadata": {
      "slideshow": {
       "slide_type": "slide"
      }
     },
     "source": [
      "Matplotlib tutorial outline\n",
      "=========================\n",
      "\n",
      "- Structure of ``matplotlib`` interfaces (``pyplot`` and Object-Oriented)\n",
      "    - Simple plots compared with ``pyplot`` and explicit OO calls\n",
      "- Creating subplots and subplot layout\n",
      "- Axis sharing among subplots\n",
      "- Customizing plot appearance\n",
      "    - Setting global, default plotting parameters\n",
      "- ``matplotlib``'s returned ``line``, ``axis``, and ``figure`` objects\n",
      "- Anatomy of a common plot\n",
      "- Common plot types: ``errorbar``, ``semilog``, ``loglog``, ``symlog``, ``bar``, ``scatter``, ``hist``, ``contourf``\n",
      "- Placing text and LaTeX support\n",
      "- Basic event handling (interactive plots in windows)\n",
      "- Image reading and displaying\n",
      "- Simple 3D plotting"
     ]
    },
    {
     "cell_type": "markdown",
     "metadata": {
      "slideshow": {
       "slide_type": "slide"
      }
     },
     "source": [
      "matplotlib's main APIs: pyplot and object-oriented\n",
      "======================================================\n",
      "\n",
      "``matplotlib`` is a library that can be thought of as having two main ways of being\n",
      "used:\n",
      "\n",
      "- via ``pyplot`` calls, as a high-level, matlab-like library that automatically\n",
      "  manages details like figure creation.\n",
      "\n",
      "- via its internal object-oriented structure, that offers full control over all\n",
      "  aspects of the figure, at the cost of slightly more verbose calls for the\n",
      "  common case."
     ]
    },
    {
     "cell_type": "markdown",
     "metadata": {
      "slideshow": {
       "slide_type": "fragment"
      }
     },
     "source": [
      "The pyplot api:\n",
      "\n",
      "- Easiest to use.\n",
      "- Sufficient for simple and moderately complex plots.\n",
      "- Does not offer complete control over all details."
     ]
    },
    {
     "cell_type": "markdown",
     "metadata": {
      "slideshow": {
       "slide_type": "fragment"
      }
     },
     "source": [
      "Before we look at our first simple example, we must activate pylab support in the notebook, leave only one option below uncommented and execute the cell:"
     ]
    },
    {
     "cell_type": "code",
     "collapsed": false,
     "input": [
      "# use this for floating figures:\n",
      "#%pylab\n",
      "\n",
      "# use this for inlined figures:\n",
      "%pylab inline"
     ],
     "language": "python",
     "metadata": {
      "slideshow": {
       "slide_type": "fragment"
      }
     },
     "outputs": []
    },
    {
     "cell_type": "markdown",
     "metadata": {
      "slideshow": {
       "slide_type": "slide"
      }
     },
     "source": [
      "Plotting with pyplot (plt) calls\n",
      "--------------------------------"
     ]
    },
    {
     "cell_type": "code",
     "collapsed": true,
     "input": [
      "x = np.linspace(0, 7)\n",
      "y = np.sin(x)\n",
      "plt.plot(x, y, label=\"sin(x)\")\n",
      "plt.legend()\n",
      "plt.title(\"Sine Wave\")\n",
      "plt.xlabel(\"x\")\n",
      "plt.ylabel(\"y\")"
     ],
     "language": "python",
     "metadata": {
      "slideshow": {
       "slide_type": "fragment"
      }
     },
     "outputs": []
    },
    {
     "cell_type": "markdown",
     "metadata": {
      "slideshow": {
       "slide_type": "slide"
      }
     },
     "source": [
      "Plotting with explicit management of the figure and axis objects\n",
      "----------------------------------------------------------------"
     ]
    },
    {
     "cell_type": "code",
     "collapsed": false,
     "input": [
      "f, ax = plt.subplots()        # we manually make a figure and axis\n",
      "ax.plot(x,y, label=\"sin(x)\")  # it's the axis who plots\n",
      "ax.legend()                   # create a legend for the axis\n",
      "ax.set_title(\"Sine Wave\")     # we set the title on the axis\n",
      "ax.set_xlabel(\"x\")            # same with the labels\n",
      "ax.set_ylabel(\"y\")"
     ],
     "language": "python",
     "metadata": {
      "slideshow": {
       "slide_type": "fragment"
      }
     },
     "outputs": []
    },
    {
     "cell_type": "markdown",
     "metadata": {
      "slideshow": {
       "slide_type": "fragment"
      }
     },
     "source": [
      "It\u2019s important to understand the existence of these objects, even if you use mostly the top-level ``pyplot`` calls most of the time. Many things can be accomplished in ``matplotlib`` with mostly ``pyplot`` and a little bit of tweaking of the underlying objects. We\u2019ll revisit the object-oriented API later.\n",
      "\n",
      "Important commands to know about, and which ``matplotlib`` uses internally a lot:\n",
      "\n",
      "    gcf()  # get current figure\n",
      "    gca()  # get current axis"
     ]
    },
    {
     "cell_type": "markdown",
     "metadata": {
      "slideshow": {
       "slide_type": "slide"
      }
     },
     "source": [
      "Making subplots\n",
      "===============\n",
      "\n",
      "The simplest command is:\n",
      "\n",
      "    f, ax = plt.subplots()\n",
      "\n",
      "which is equivalent to:\n",
      "\n",
      "    f = plt.figure()\n",
      "    ax = f.add_subplot(111)\n",
      "\n",
      "By passing arguments to `subplots`, you can easily create a regular plot grid:"
     ]
    },
    {
     "cell_type": "code",
     "collapsed": false,
     "input": [
      "x = np.linspace(2, 5, 100)\n",
      "y = np.sin(x**2)\n",
      "\n",
      "# Just a figure and one subplot\n",
      "f, ax = plt.subplots(figsize=(5,3))\n",
      "ax.plot(x, y)\n",
      "ax.set_title(\"Simple Plot\")\n",
      "\n",
      "# Two subplots, unpack the output array immediately\n",
      "f, (ax1, ax2) = plt.subplots(1, 2,figsize=(10,4)) # horizontally aligned\n",
      "# f, (ax1, ax2) = plt.subplots(2, 1, figsize=(10,4)) # vertically stacked\n",
      "ax1.plot(x, y)\n",
      "ax2.plot(x+2.5, y**2-0.5)\n",
      "\n",
      "# Put a figure-level title\n",
      "f.suptitle(\"Aligned Subplots\", fontsize=22)"
     ],
     "language": "python",
     "metadata": {
      "slideshow": {
       "slide_type": "fragment"
      }
     },
     "outputs": []
    },
    {
     "cell_type": "markdown",
     "metadata": {
      "slideshow": {
       "slide_type": "slide"
      }
     },
     "source": [
      "And finally, an arbitrarily complex grid can be made with ``subplot2grid``:"
     ]
    },
    {
     "cell_type": "code",
     "collapsed": false,
     "input": [
      "f = plt.figure()\n",
      "# subplot2grid(shape, loc, rowspan=1, colspan=1)\n",
      "ax1 = plt.subplot2grid((3,3), (0,0), colspan=3)\n",
      "ax2 = plt.subplot2grid((3,3), (1,0), colspan=2)\n",
      "ax3 = plt.subplot2grid((3,3), (1, 2), rowspan=2)\n",
      "ax4 = plt.subplot2grid((3,3), (2, 0))\n",
      "ax5 = plt.subplot2grid((3,3), (2, 1))\n",
      "\n",
      "# Let's turn off visibility of all tick labels here\n",
      "for ax in f.axes:\n",
      "   for t in ax.get_xticklabels()+ax.get_yticklabels():\n",
      "       t.set_visible(False)\n",
      "\n",
      "# And add a figure-level title at the top\n",
      "f.suptitle(\"subplot2grid\", fontsize=22)"
     ],
     "language": "python",
     "metadata": {
      "slideshow": {
       "slide_type": "fragment"
      }
     },
     "outputs": []
    },
    {
     "cell_type": "markdown",
     "metadata": {
      "slideshow": {
       "slide_type": "slide"
      }
     },
     "source": [
      "Axis sharing\n",
      "============\n",
      "\n",
      "The simplest way to share axes is to use the ``subplots`` function.  More\n",
      "fine-grained control can be obtained by individually adding ``subplot``s and adding\n",
      "share calls to those, but in most cases the functionality from ``subplots`` is sufficient:"
     ]
    },
    {
     "cell_type": "code",
     "collapsed": false,
     "input": [
      "# Simple data to display in various forms\n",
      "x = np.linspace(0, 2*np.pi, 400)\n",
      "y = np.sin(x**2)\n",
      "\n",
      "# Two subplots, the axes array is 1-d\n",
      "f, axarr = plt.subplots(2, sharex=True, figsize=(10,6))\n",
      "f.suptitle(\"Sharing X axis\", fontsize=22)\n",
      "axarr[0].plot(x, y)\n",
      "axarr[1].plot(x+0.5, y*0.8)"
     ],
     "language": "python",
     "metadata": {
      "slideshow": {
       "slide_type": "fragment"
      }
     },
     "outputs": []
    },
    {
     "cell_type": "code",
     "collapsed": false,
     "input": [
      "# Simple data to display in various forms\n",
      "x = np.linspace(0, 2*np.pi, 400)\n",
      "y = np.sin(x**2)\n",
      "\n",
      "# Two subplots, unpack the axes array immediately\n",
      "f, (ax1, ax2) = plt.subplots(1, 2, sharey=True, figsize=(10,4))\n",
      "f.suptitle(\"Sharing Y axis\", fontsize=22)\n",
      "ax1.plot(x, y)\n",
      "ax2.plot(x+3, y*0.8)"
     ],
     "language": "python",
     "metadata": {
      "slideshow": {
       "slide_type": "slide"
      }
     },
     "outputs": []
    },
    {
     "cell_type": "code",
     "collapsed": false,
     "input": [
      "# Simple data to display in various forms\n",
      "x = np.linspace(0, 2*np.pi, 400)\n",
      "y = np.sin(x**2)\n",
      "\n",
      "# Three subplots sharing both x/y axes\n",
      "f, (ax1, ax2, ax3) = plt.subplots(3, sharex=True, sharey=True, figsize=(10,6))\n",
      "f.suptitle(\"Sharing both axes\", fontsize=22)\n",
      "ax1.plot(x+1, y)\n",
      "ax2.plot(x, y/2)\n",
      "ax3.plot(x, 2*y**2-1)\n",
      "# Fine-tune figure; make subplots close to each other and hide x ticks for\n",
      "# all but bottom plot.\n",
      "f.subplots_adjust(hspace=0) # wspace is for \"width-space\"\n",
      "plt.setp([a.get_xticklabels() for a in f.axes[:-1]], visible=False)\n",
      "ax1.set_xlim(0,2*np.pi+1)   # Setting xlim/ylim for one axis propagates \n",
      "ax1.set_ylim(-1.25,1.25)  # to the others when shared."
     ],
     "language": "python",
     "metadata": {
      "slideshow": {
       "slide_type": "slide"
      }
     },
     "outputs": []
    },
    {
     "cell_type": "markdown",
     "metadata": {
      "slideshow": {
       "slide_type": "slide"
      }
     },
     "source": [
      "Customizing a plot's appearance\n",
      "=========================================\n",
      "\n",
      "In ``matplotlib``, most properties for linestyles, colors, etc, can be set directly in\n",
      "the call:"
     ]
    },
    {
     "cell_type": "code",
     "collapsed": false,
     "input": [
      "plt.plot([1,2,3], linestyle='--', color='r') # x-values are index array (0 .. N-1)"
     ],
     "language": "python",
     "metadata": {
      "slideshow": {
       "slide_type": "fragment"
      }
     },
     "outputs": []
    },
    {
     "cell_type": "markdown",
     "metadata": {
      "slideshow": {
       "slide_type": "fragment"
      }
     },
     "source": [
      "But for finer control you can get ahold of the returned ``line`` object (more on\n",
      "these ``matplotlib``-returned objects later):\n",
      "\n",
      "    In [1]: line, = plt.plot([1,2,3])"
     ]
    },
    {
     "cell_type": "markdown",
     "metadata": {
      "slideshow": {
       "slide_type": "slide"
      }
     },
     "source": [
      "These ``line`` objects have a lot of properties you can control, a full list is\n",
      "seen here by tab-completing in the IPython interpreter:\n",
      "\n",
      "    In [2]: line.set\n",
      "    line.set                     line.set_lw\n",
      "    line.set_aa                  line.set_marker\n",
      "    line.set_agg_filter          line.set_markeredgecolor\n",
      "    line.set_alpha               line.set_markeredgewidth\n",
      "    line.set_animated            line.set_markerfacecolor\n",
      "    line.set_antialiased         line.set_markerfacecoloralt\n",
      "    line.set_axes                line.set_markersize\n",
      "    line.set_c                   line.set_markevery\n",
      "    line.set_clip_box            line.set_mec\n",
      "    line.set_clip_on             line.set_mew\n",
      "    line.set_clip_path           line.set_mfc\n",
      "    line.set_color               line.set_mfcalt\n",
      "    line.set_contains            line.set_ms\n",
      "    line.set_dash_capstyle       line.set_picker\n",
      "    line.set_dash_joinstyle      line.set_pickradius\n",
      "    line.set_dashes              line.set_rasterized\n",
      "    line.set_data                line.set_snap\n",
      "    line.set_drawstyle           line.set_solid_capstyle\n",
      "    line.set_figure              line.set_solid_joinstyle\n",
      "    line.set_fillstyle           line.set_transform\n",
      "    line.set_gid                 line.set_url\n",
      "    line.set_label               line.set_visible\n",
      "    line.set_linestyle           line.set_xdata\n",
      "    line.set_linewidth           line.set_ydata\n",
      "    line.set_lod                 line.set_zorder\n",
      "    line.set_ls      "
     ]
    },
    {
     "cell_type": "code",
     "collapsed": false,
     "input": [
      "line, = plt.plot([1,2,3]) # create a line object"
     ],
     "language": "python",
     "metadata": {
      "slideshow": {
       "slide_type": "slide"
      }
     },
     "outputs": []
    },
    {
     "cell_type": "markdown",
     "metadata": {
      "slideshow": {
       "slide_type": "fragment"
      }
     },
     "source": [
      "But the ``setp`` call (short for set property) can be very useful, especially while working interactively because it contains introspection support, so you can learn about the valid calls as you work:"
     ]
    },
    {
     "cell_type": "code",
     "collapsed": false,
     "input": [
      "setp(line, \"linestyle\")"
     ],
     "language": "python",
     "metadata": {
      "slideshow": {
       "slide_type": "fragment"
      }
     },
     "outputs": []
    },
    {
     "cell_type": "code",
     "collapsed": false,
     "input": [
      "setp(line)"
     ],
     "language": "python",
     "metadata": {
      "slideshow": {
       "slide_type": "fragment"
      }
     },
     "outputs": []
    },
    {
     "cell_type": "markdown",
     "metadata": {
      "slideshow": {
       "slide_type": "slide"
      }
     },
     "source": [
      "In the first form, it shows you the valid values for the ``linestyle`` property,\n",
      "and in the second it shows you all the acceptable properties you can set on the\n",
      "``line`` object.  This makes it very easy to discover how to customize your figures\n",
      "to get the visual results you need.\n",
      "\n",
      "Furthermore, ``setp`` can manipulate multiple objects at a time:"
     ]
    },
    {
     "cell_type": "code",
     "collapsed": false,
     "input": [
      "x = linspace(0, 7, 100)\n",
      "y1 = sin(x)\n",
      "y2 = sin(2*x)\n",
      "lines = plt.plot(x, y1, x, y2)\n",
      "\n",
      "# We will set the width and color of all lines in the figure at once:\n",
      "plt.setp(lines, linewidth=2, color=\"r\")"
     ],
     "language": "python",
     "metadata": {
      "slideshow": {
       "slide_type": "fragment"
      }
     },
     "outputs": []
    },
    {
     "cell_type": "markdown",
     "metadata": {
      "slideshow": {
       "slide_type": "slide"
      }
     },
     "source": [
      "Finally, if you know what properties you want to set on a specific object, a\n",
      "plain ``set`` call is typically the simplest form:"
     ]
    },
    {
     "cell_type": "code",
     "collapsed": false,
     "input": [
      "line, = plt.plot([1,2,3])\n",
      "line.set(lw=2, c=\"g\", ls=\"-.\")"
     ],
     "language": "python",
     "metadata": {
      "slideshow": {
       "slide_type": "fragment"
      }
     },
     "outputs": []
    },
    {
     "cell_type": "markdown",
     "metadata": {
      "slideshow": {
       "slide_type": "slide"
      }
     },
     "source": [
      "Gobal plot settings and the matplotlibrc file\n",
      "-------------------\n",
      "\n",
      "You can change (nearly) all the default plot appearance settings in your ``matplotlibrc`` file. The global (installation) version of this file lives in\n",
      "\n",
      "``/Users/uname/anaconda/lib/python2.7/site-packages/matplotlib/mpl-data/matplotlibrc``\n",
      "\n",
      "A user-specific version (optional) lives in\n",
      "\n",
      "``/Users/uname/.matplotlib/matplotlibrc``\n",
      "\n",
      "And, a project/script-specific file can be kept in the same directory as your code or where you launch your interpreter. This third method is what we're using right now, as I've bundeled a customized ``matplotlibrc`` file with this notebook file to make more attractive plots for big screen presenting."
     ]
    },
    {
     "cell_type": "markdown",
     "metadata": {
      "slideshow": {
       "slide_type": "fragment"
      }
     },
     "source": [
      "The file has explanatory comments throughout, but you can also learn more at the ``matplotlib`` [customization tutorial](http://matplotlib.org/users/customizing.html). You can also change ``rcParams`` dynamically inline with your plotting code."
     ]
    },
    {
     "cell_type": "markdown",
     "metadata": {
      "slideshow": {
       "slide_type": "slide"
      }
     },
     "source": [
      "Understanding what matplotlib returns: lines, axes and figures\n",
      "==============================================================\n",
      "\n",
      "Lines\n",
      "-----\n",
      "\n",
      "In a simple plot:"
     ]
    },
    {
     "cell_type": "code",
     "collapsed": false,
     "input": [
      "plt.plot([1,2,3])"
     ],
     "language": "python",
     "metadata": {
      "slideshow": {
       "slide_type": "fragment"
      }
     },
     "outputs": []
    },
    {
     "cell_type": "markdown",
     "metadata": {
      "slideshow": {
       "slide_type": "fragment"
      }
     },
     "source": [
      "The return value of the plot call is a list of ``line``s, which can be manipulated\n",
      "further."
     ]
    },
    {
     "cell_type": "markdown",
     "metadata": {
      "slideshow": {
       "slide_type": "slide"
      }
     },
     "source": [
      "If you capture the ``line`` object (in this case it's a single line so we\n",
      "use a one-element tuple):"
     ]
    },
    {
     "cell_type": "code",
     "collapsed": false,
     "input": [
      "line, = plt.plot([1,2,3])\n",
      "line.set_color('r')"
     ],
     "language": "python",
     "metadata": {
      "slideshow": {
       "slide_type": "fragment"
      }
     },
     "outputs": []
    },
    {
     "cell_type": "markdown",
     "metadata": {
      "slideshow": {
       "slide_type": "fragment"
      }
     },
     "source": [
      "One ``line`` property that is particularly useful to be aware of is ``set_data``:"
     ]
    },
    {
     "cell_type": "code",
     "collapsed": false,
     "input": [
      "# Create a plot and hold the line object\n",
      "line, = plt.plot([1,2,3], label=\"my data\")\n",
      "plt.grid()\n",
      "plt.legend(loc=\"upper left\")\n",
      "plt.title(\"My title\")\n",
      "\n",
      "# ... later, we may want to modify the x/y data but keeping the rest of the\n",
      "# figure intact, with our new data:\n",
      "x = np.linspace(0, 1)\n",
      "y = x**2\n",
      "\n",
      "# This can be done by operating on the data object itself\n",
      "line.set_data(x, y)\n",
      "\n",
      "# Now we must set the axis limits manually. Note that we can also use xlim\n",
      "# and ylim to set the x/y limits separately.\n",
      "plt.axis([0,1,0,1])\n",
      "\n",
      "# Note, alternatively this can be done with:\n",
      "ax = plt.gca()  # get currently active axis object\n",
      "ax.relim()\n",
      "ax.autoscale_view()\n",
      "\n",
      "# as well as requesting matplotlib to (re)draw\n",
      "plt.draw()"
     ],
     "language": "python",
     "metadata": {
      "slideshow": {
       "slide_type": "slide"
      }
     },
     "outputs": []
    },
    {
     "cell_type": "markdown",
     "metadata": {
      "slideshow": {
       "slide_type": "slide"
      }
     },
     "source": [
      "The next important component, axes\n",
      "----------------------------------\n",
      "   \n",
      "The ``axis`` call above was used to set the x/y limits of the axis.  And in\n",
      "previous examples we called ``.plot`` directly on ``axis`` objects.  Axes are the\n",
      "main object that contains a lot of the user-facing functionality of ``matplotlib``:"
     ]
    },
    {
     "cell_type": "markdown",
     "metadata": {
      "slideshow": {
       "slide_type": "fragment"
      }
     },
     "source": [
      "    In [1]: f = plt.figure()\n",
      "\n",
      "    In [2]: ax = f.add_subplot(111)\n",
      "\n",
      "    In [3]: ax.\n",
      "    Display all 299 possibilities? (y or n)\n",
      "    ax.acorr                                 ax.hitlist\n",
      "    ax.add_artist                            ax.hlines\n",
      "    ax.add_callback                          ax.hold\n",
      "    ax.add_collection                        ax.ignore_existing_data_limits\n",
      "    ax.add_line                              ax.images\n",
      "    ax.add_patch                             ax.imshow\n",
      "    \n",
      "    ... etc."
     ]
    },
    {
     "cell_type": "markdown",
     "metadata": {
      "slideshow": {
       "slide_type": "fragment"
      }
     },
     "source": [
      "Many of the commands in ``plt.<command>`` are nothing but wrappers around ``axis``\n",
      "calls, with machinery to automatically create a figure and add an ``axis`` to it if\n",
      "there wasn't one to begin with.  The output of most ``axis`` actions that draw\n",
      "something is a collection of ``line``s (or other more complex geometric objects)."
     ]
    },
    {
     "cell_type": "markdown",
     "metadata": {
      "slideshow": {
       "slide_type": "slide"
      }
     },
     "source": [
      "Enclosing it all, the figure\n",
      "----------------------------\n",
      "\n",
      "The enclosing object is the ``figure``, that holds all axes:\n",
      "\n",
      "    In [1]: f = plt.figure()\n",
      "    \n",
      "    In [2]: f.add_subplot(211)\n",
      "    Out[2]: <matplotlib.axes.AxesSubplot object at 0x9d0060c>\n",
      "    \n",
      "    In [3]: f.axes\n",
      "    Out[3]: [<matplotlib.axes.AxesSubplot object at 0x9d0060c>]\n",
      "    \n",
      "    In [4]: f.add_subplot(212)\n",
      "    Out[4]: <matplotlib.axes.AxesSubplot object at 0x9eacf0c>\n",
      "    \n",
      "    In [5]: f.axes\n",
      "    Out[5]: \n",
      "    [<matplotlib.axes.AxesSubplot object at 0x9d0060c>,\n",
      "     <matplotlib.axes.AxesSubplot object at 0x9eacf0c>]\n",
      "\n",
      "The basic view of matplotlib is: a ``figure`` contains one or more axes, axes draw\n",
      "and return collections of one or more geometric objects (``line``s, ``patch``es, etc).\n",
      "\n",
      "For all the gory details on this topic, see the ``matplotlib`` [artist tutorial](http://matplotlib.sourceforge.net/users/artists.html)."
     ]
    },
    {
     "cell_type": "markdown",
     "metadata": {
      "slideshow": {
       "slide_type": "slide"
      }
     },
     "source": [
      "Anatomy of a common plot\n",
      "========================\n",
      "\n",
      "Let's make a simple plot that contains a few commonly used decorations"
     ]
    },
    {
     "cell_type": "code",
     "collapsed": false,
     "input": [
      "f, ax = plt.subplots()\n",
      "\n",
      "# Three simple polyniomials\n",
      "x = np.linspace(-1, 1, 20)\n",
      "y1,y2,y3 = [x**i for i in [1,2,3]]\n",
      "\n",
      "# Plot each with a label (for a legend)\n",
      "ax.plot(x, y1, label=\"linear\")\n",
      "ax.plot(x, y2, label=\"quadratic\", ls=\"--\") # set linestyle\n",
      "ax.plot(x, y3, label=\"cubic\", marker=\"o\", ms=10, alpha=0.7) \n",
      "                              # set marker style, give it some transparency\n",
      "# Make all lines drawn so far thicker\n",
      "plt.setp(ax.lines, linewidth=2)\n",
      "\n",
      "# Add a grid and a legend that doesn't overlap the lines\n",
      "ax.grid(True)\n",
      "ax.legend(loc=\"lower right\", numpoints=1, \n",
      "          fancybox=True, borderpad=0.2, handlelength=2, labelspacing=0.1)\n",
      "\n",
      "# Add black horizontal and vertical lines through the origin\n",
      "ax.axhline(0, color=\"black\")\n",
      "ax.axvline(0, color=\"black\")\n",
      "\n",
      "# Set main text elements of the plot\n",
      "ax.set_title(\"Some polynomials\")\n",
      "ax.set_xlabel(\"x\")\n",
      "ax.set_ylabel(\"p(x)\")"
     ],
     "language": "python",
     "metadata": {
      "slideshow": {
       "slide_type": "fragment"
      }
     },
     "outputs": []
    },
    {
     "cell_type": "markdown",
     "metadata": {
      "slideshow": {
       "slide_type": "slide"
      }
     },
     "source": [
      "Common plot types\n",
      "=================\n",
      "\n",
      "Error plots\n",
      "-----------\n",
      "\n",
      "First a very simple error plot"
     ]
    },
    {
     "cell_type": "code",
     "collapsed": false,
     "input": [
      "# example data\n",
      "x = np.linspace(0, 4, 8) + np.random.normal(0.0, 0.05, 8) # throw in some random jitter\n",
      "y = np.exp(-x) + np.random.normal(0.0, 0.05, 8) + 1\n",
      "\n",
      "# example variable error bar values\n",
      "yerr = abs(np.random.normal(0.3, 0.075, y.size))\n",
      "xerr = abs(np.random.normal(0.2, 0.05, x.size))\n",
      "\n",
      "# First illustrate basic pyplot interface, using defaults where possible.\n",
      "plt.figure()\n",
      "plt.errorbar(x, y, xerr, yerr, marker=\"D\", ms=8, ls=\"\")\n",
      "plt.axis([-0.5,4.5,0.75,2.25]) # force plot bounds\n",
      "plt.title(\"Errorbar Plot with Variable Errors\")"
     ],
     "language": "python",
     "metadata": {
      "slideshow": {
       "slide_type": "fragment"
      }
     },
     "outputs": []
    },
    {
     "cell_type": "markdown",
     "metadata": {
      "slideshow": {
       "slide_type": "slide"
      }
     },
     "source": [
      "Now a more elaborate ``errorbar`` plot, using the OO interface to exercise more features."
     ]
    },
    {
     "cell_type": "code",
     "collapsed": false,
     "input": [
      "# same data/errors as before\n",
      "x = np.linspace(0, 4, 8) + np.random.normal(0.0, 0.05, 8)\n",
      "y = np.exp(-x) + np.random.normal(0.0, 0.05, 8) + 1\n",
      "yerr = abs(np.random.normal(0.3, 0.075, y.size))\n",
      "xerr = abs(np.random.normal(0.2, 0.05, x.size))\n",
      "\n",
      "fig, axs = plt.subplots(nrows=2, ncols=2, figsize=(12,8))\n",
      "\n",
      "ax = axs[0,0] # upper left axis\n",
      "ax.errorbar(x, y, yerr=yerr, fmt=\"o\", lw=2, ms=8)\n",
      "ax.set_xlim(-0.5,4.5)\n",
      "ax.set_ylim(0.75,2.25)\n",
      "ax.locator_params(nbins=4) # reduce the number of axis ticks to avoid crowding\n",
      "ax.set_title(\"Vertically Symmetric\")\n",
      "\n",
      "ax = axs[0,1] # upper right axis\n",
      "ax.errorbar(x, y, xerr=xerr, fmt=\"o\", color=\"orange\", lw=2, ms=8)\n",
      "ax.set_xlim(-0.5,4.5)\n",
      "ax.set_ylim(0.75,2.25)\n",
      "ax.locator_params(nbins=4)\n",
      "ax.set_title(\"Horizontally Symmetric\")\n",
      "\n",
      "ax = axs[1,0] # lower left axis\n",
      "ax.errorbar(x, y, yerr=[yerr, 2*yerr], xerr=[xerr, 2*xerr], fmt=\"--o\", color=\"magenta\", markeredgecolor=\"none\", lw=2, ms=8)\n",
      "ax.set_xlim(-0.5,4.5)\n",
      "ax.set_ylim(0.75,2.25)\n",
      "ax.locator_params(nbins=4)\n",
      "ax.set_title(\"Horizontally and Vertically Asymmetric\")\n",
      "\n",
      "ax = axs[1,1] # lower right axis\n",
      "ax.set_yscale(\"log\")\n",
      "# Here we have to be careful to keep all y values positive:\n",
      "ylower = np.maximum(1e-2, y - yerr)\n",
      "yerr_lower = y - ylower\n",
      "\n",
      "ax.errorbar(x, y, yerr=[yerr_lower, 2*yerr], xerr=xerr, fmt=\"D\", lw=2, color=\"red\", ecolor=\"goldenrod\", ms=8)\n",
      "ax.set_xlim(-0.5,4.5)\n",
      "ax.set_ylim(0.75,2.25)\n",
      "ax.set_title(\"Mixed Symmetry, log y\")"
     ],
     "language": "python",
     "metadata": {
      "slideshow": {
       "slide_type": "fragment"
      }
     },
     "outputs": []
    },
    {
     "cell_type": "markdown",
     "metadata": {
      "slideshow": {
       "slide_type": "slide"
      }
     },
     "source": [
      "Logarithmic plots\n",
      "-----------------\n",
      "\n",
      "A simple log plot"
     ]
    },
    {
     "cell_type": "code",
     "collapsed": false,
     "input": [
      "x = np.linspace(-5, 5, 100)\n",
      "y = np.exp(-x**2)\n",
      "\n",
      "f, (ax1, ax2, ax3) = plt.subplots(1, 3, figsize=(12,4))\n",
      "ax1.plot(x, y)\n",
      "ax1.set_xlim(-5,5)\n",
      "ax1.set_ylim(-.05,1.05)\n",
      "\n",
      "ax2.semilogy(x, y)\n",
      "ax2.set_yticks([1e-10, 1e-8, 1e-6, 1e-4, 1e-2, 1e-0])\n",
      "  # set ticks manually to reduce crowding\n",
      "ax2.set_xlim(-5,5)\n",
      "ax2.set_ylim(0,10)\n",
      "\n",
      "ax3.loglog(x, y) # Note that negative values cannot be plotted\n",
      "ax3.set_yticks([1e-10, 1e-8, 1e-6, 1e-4, 1e-2, 1e-0])\n",
      "ax3.set_xlim(-5,5)\n",
      "ax3.set_ylim(0,10)"
     ],
     "language": "python",
     "metadata": {
      "slideshow": {
       "slide_type": "fragment"
      }
     },
     "outputs": []
    },
    {
     "cell_type": "markdown",
     "metadata": {
      "slideshow": {
       "slide_type": "slide"
      }
     },
     "source": [
      "A more elaborate log plot using ``symlog``, that treats a specified range as\n",
      "linear (thus handling values near zero) and symmetrizes negative values:"
     ]
    },
    {
     "cell_type": "code",
     "collapsed": false,
     "input": [
      "x = np.linspace(-50, 50, 100)\n",
      "y = np.linspace(0, 100, 100)\n",
      "\n",
      "# Create the figure and axes\n",
      "f, (ax1, ax2, ax3) = plt.subplots(3, 1, figsize=(8,10))\n",
      "\n",
      "# Symlog on the x axis\n",
      "ax1.plot(x, y)\n",
      "ax1.set_xscale(\"symlog\")\n",
      "ax1.set_ylabel(\"symlogx\")\n",
      "# Grid for both axes\n",
      "ax1.grid(True)\n",
      "# Minor grid on too for x\n",
      "ax1.xaxis.grid(True, which=\"minor\")\n",
      "\n",
      "# Symlog on the y axis\n",
      "ax2.plot(y, x)\n",
      "ax2.set_yscale(\"symlog\")\n",
      "ax2.grid(True)\n",
      "ax2.set_ylabel(\"symlogy\")\n",
      "ax2.set_yticks([-1e2, -1e1, -1, 1, 1e1, 1e2])\n",
      "\n",
      "# Symlog on both\n",
      "ax3.plot(x, np.sin(x / 3.0))\n",
      "ax3.set_xscale(\"symlog\")\n",
      "ax3.set_yscale(\"symlog\")\n",
      "ax3.grid(True)\n",
      "ax3.set_ylabel(\"symlog both\")\n",
      "ax3.set_yticks([-0.5, 0, 0.5])\n",
      "ax3.set_yticklabels([-0.5, 0, 0.5]) # needed to force non-integer labels"
     ],
     "language": "python",
     "metadata": {
      "slideshow": {
       "slide_type": "fragment"
      }
     },
     "outputs": []
    },
    {
     "cell_type": "markdown",
     "metadata": {
      "slideshow": {
       "slide_type": "slide"
      }
     },
     "source": [
      "Bar plots\n",
      "---------"
     ]
    },
    {
     "cell_type": "code",
     "collapsed": false,
     "input": [
      "# a bar plot with errorbars\n",
      "import numpy as np\n",
      "import matplotlib.pyplot as plt\n",
      "\n",
      "menMeans =   (20, 35, 30, 31, 27)\n",
      "menStd =     (2, 3, 4, 1, 2)\n",
      "womenMeans = (25, 32, 34, 21, 29)\n",
      "womenStd =   (3, 5, 2, 3, 3)\n",
      "\n",
      "ind = np.arange(len(menMeans))  # the x locations for the groups\n",
      "width = 0.35       # the width of the bars\n",
      "\n",
      "fig = plt.figure(figsize=(10,6))\n",
      "ax = fig.add_subplot(111)\n",
      "rects1 = ax.bar(ind, menMeans, width, color=\"LightSkyBlue\", yerr=menStd, ecolor=\"blue\", capsize=5)\n",
      "rects2 = ax.bar(ind+width, womenMeans, width, color=\"HotPink\", yerr=womenStd, ecolor=\"red\", capsize=5)\n",
      "ax.set_xlim(ind[0]-width/2, ind[-1]+2.5*width) # To make the plot centered nicely\n",
      "\n",
      "# add some\n",
      "ax.set_ylabel(\"Scores\")\n",
      "ax.set_title(\"Scores by Group and Gender\")\n",
      "ax.set_xticks(ind+width)\n",
      "ax.set_xticklabels( (\"G1\", \"G2\", \"G3\", \"G4\", \"G5\") )\n",
      "\n",
      "ax.legend( (rects1[0], rects2[0]), (\"Men\", \"Women\"), borderpad=0.2, handlelength=2, labelspacing=0.1 )"
     ],
     "language": "python",
     "metadata": {
      "slideshow": {
       "slide_type": "fragment"
      }
     },
     "outputs": []
    },
    {
     "cell_type": "markdown",
     "metadata": {
      "slideshow": {
       "slide_type": "slide"
      }
     },
     "source": [
      "Scatter plots\n",
      "-------------\n",
      "\n",
      "The ``scatter`` command produces scatter plots with arbitrary markers.\n",
      "\n",
      "This is distinct from simply using ``plot`` with ``linestyle=\"none\"`` because the markers can be assigned sizes and colors individually (usually following a pattern from the data)."
     ]
    },
    {
     "cell_type": "code",
     "collapsed": false,
     "input": [
      "from matplotlib import cm # import the colormappings\n",
      "\n",
      "t = linspace(0.0, 6*np.pi, 70)\n",
      "y = exp(-0.1*t)*np.cos(t)\n",
      "phase = t % 2*np.pi\n",
      "f = plt.figure(figsize=(10,4))\n",
      "ax = f.add_subplot(111)\n",
      "ax.scatter(t, y, marker=\"*\", s=100*abs(y)+20, c=phase, cmap=cm.jet, linewidths=0)\n",
      "ax.set_ylim(-1.1,1.1)\n",
      "ax.set_xlim(t[0]-0.3,t[-1]+0.3)\n",
      "ax.set_xticks(np.pi*linspace(0,6,7))\n",
      "ax.set_xticklabels([r\"$0$\", r\"$\\pi$\", r\"$2\\pi$\",r\"$3\\pi$\",r\"$4\\pi$\",r\"$5\\pi$\",r\"$6\\pi$\"])\n",
      "ax.grid()           # We cover LaTeX string formatting later, but it's this simple\n",
      "ax.axhline(0, color=\"k\")"
     ],
     "language": "python",
     "metadata": {
      "slideshow": {
       "slide_type": "fragment"
      }
     },
     "outputs": []
    },
    {
     "cell_type": "markdown",
     "metadata": {
      "slideshow": {
       "slide_type": "slide"
      }
     },
     "source": [
      "Histograms\n",
      "----------\n",
      "\n",
      "``matplotlib`` has a built-in command for histograms."
     ]
    },
    {
     "cell_type": "code",
     "collapsed": false,
     "input": [
      "mu, sigma = 100, 15\n",
      "x = mu + sigma * np.random.randn(10000)\n",
      "\n",
      "# the histogram of the data\n",
      "n, bins, patches = plt.hist(x, bins=50, normed=1, facecolor=\"g\", alpha=0.75)\n",
      "# setp(patches[::2], color=\"r\") # Do you remember setp? We can use it here -> X-mas Gaussian\n",
      "plt.xlabel(\"Smarts\")\n",
      "plt.ylabel(\"Probability\")\n",
      "plt.title(\"Histogram of IQ\")\n",
      "plt.text(45, .022, r\"$\\mu=100,\\ \\sigma=15$\", fontsize=18)\n",
      "plt.axis([40, 160, 0, 0.03])"
     ],
     "language": "python",
     "metadata": {
      "slideshow": {
       "slide_type": "fragment"
      }
     },
     "outputs": []
    },
    {
     "cell_type": "markdown",
     "metadata": {
      "slideshow": {
       "slide_type": "slide"
      }
     },
     "source": [
      "Contour plots\n",
      "----------\n",
      "\n",
      "``matplotlib`` can turn scatter plot data into contours with some help from ``scipy``."
     ]
    },
    {
     "cell_type": "code",
     "collapsed": false,
     "input": [
      "import scipy.stats as stats\n",
      "from matplotlib import cm\n",
      "\n",
      "f, (ax1, ax2) = plt.subplots(1, 2, sharey=True, sharex=True, figsize=(15,6))\n",
      "\n",
      "# Create the x and y data points\n",
      "t = hstack((np.random.normal(-np.pi/2, np.pi/6,  1000), \n",
      "            np.random.normal( np.pi/2, np.pi/6,  1000),\n",
      "            np.random.normal( np.pi*0.7, np.pi/2, 300),\n",
      "            np.random.normal( np.pi*1.3, np.pi/2, 300),\n",
      "            np.random.normal( np.pi,     np.pi/2, 100)))\n",
      "n_points = t.size\n",
      "radial_scaling = np.random.uniform(0.0,1.0, size=n_points)\n",
      "x_data = (16*(np.sin(t))**3) * radial_scaling\n",
      "y_data = (13*np.cos(t) - 5*cos(2*t) - 2*cos(3*t) - cos(4*t)) * radial_scaling**0.5\n",
      "\n",
      "ax1.scatter(x_data, y_data, edgecolor=\"none\", alpha=0.25)\n",
      "ax1.set_xlim(-20, 20)\n",
      "ax1.set_ylim(-20, 15)\n",
      "ax1.set_xticks([])\n",
      "ax1.set_yticks([])\n",
      "\n",
      "# To make the contour plot we need 2D arrays of coordinates \n",
      "# and values (\"heights\" or \"densities\"). Could also just use\n",
      "# a 2D array (like a grayscale image).\n",
      "rvs = np.append(array([x_data]).T, array([y_data]).T, axis=1)\n",
      "kde = stats.kde.gaussian_kde(rvs.T)\n",
      "# Regular grid to evaluate kernal density estimator upon\n",
      "x_flat = np.r_[-20:20:128j]\n",
      "y_flat = np.r_[-20:15:128j]\n",
      "x,y = np.meshgrid(x_flat,y_flat)\n",
      "grid_coords = np.append(x.reshape(-1,1),y.reshape(-1,1),axis=1)\n",
      "# create the smoothed \"image\" of the density\n",
      "z = kde(grid_coords.T)\n",
      "z = z.reshape(128,128)\n",
      "# Create the contour plot, supply x and y to plot with the same axis units\n",
      "ax2.contourf(x, y, z, 7, cmap=cm.jet)"
     ],
     "language": "python",
     "metadata": {
      "slideshow": {
       "slide_type": "fragment"
      }
     },
     "outputs": []
    },
    {
     "cell_type": "markdown",
     "metadata": {
      "slideshow": {
       "slide_type": "slide"
      }
     },
     "source": [
      "Aribitrary text and LaTeX support\n",
      "=================================\n",
      "\n",
      "In ``matplotlib``, text can be added either relative to an individual ``axis`` object\n",
      "or to the whole ``figure``.\n",
      "\n",
      "These commands add text to the Axes:\n",
      "\n",
      "- ``ax.set_title()`` - add a title\n",
      "- ``ax.set_xlabel()`` - add an axis label to the x-axis\n",
      "- ``ax.set_ylabel()`` - add an axis label to the y-axis\n",
      "- ``ax.text()`` - add text at an arbitrary location\n",
      "- ``ax.annotate()`` - add an annotation, with optional arrow\n",
      "\n",
      "And these act on the whole figure:\n",
      "\n",
      "- ``plt.figtext()`` - add text at an arbitrary location\n",
      "- ``fig.suptitle()`` - add a title\n",
      "\n",
      "And any ``text`` field can contain LaTeX expressions for mathematics, as long as\n",
      "they are enclosed in ``$`` signs.\n",
      "\n",
      "Here's how to add text to a plot:"
     ]
    },
    {
     "cell_type": "code",
     "collapsed": false,
     "input": [
      "fig = plt.figure(figsize=(8,6))\n",
      "fig.suptitle(\"Bold Figure Suptitle\", fontsize=28, fontweight=\"bold\")\n",
      "\n",
      "ax = fig.add_subplot(111)\n",
      "fig.subplots_adjust(top=0.85)\n",
      "ax.set_title(\"Axes Title\")\n",
      "\n",
      "ax.set_xlabel(\"xlabel\")\n",
      "ax.set_ylabel(\"ylabel\")\n",
      "\n",
      "ax.text(3, 8, \"boxed italics text in data coords\", style=\"italic\", fontsize=18,\n",
      "        bbox={\"facecolor\":\"red\", \"alpha\":0.5, \"pad\":10})\n",
      "\n",
      "ax.text(2, 6, r\"an equation: $E=mc^2$\", fontsize=15)\n",
      "\n",
      "ax.text(3, 2, unicode(\"unicode: Institut f\\374r Festk\\366rperphysik\",\n",
      "                      \"latin-1\"), fontsize=18)\n",
      "\n",
      "ax.text(0.95, 0.05, \"colored text in axes coords\",\n",
      "        verticalalignment=\"bottom\", horizontalalignment=\"right\",\n",
      "        transform=ax.transAxes,\n",
      "        color=\"green\", fontsize=22)\n",
      "\n",
      "\n",
      "ax.plot([2], [1], \"o\")\n",
      "ax.annotate(\"Important\\nAnnotation\", xy=(2, 1), xytext=(3, 4), fontsize=14,\n",
      "            arrowprops=dict(facecolor=\"black\", shrink=0.05))\n",
      "\n",
      "ax.axis([0, 10, 0, 10])"
     ],
     "language": "python",
     "metadata": {
      "slideshow": {
       "slide_type": "fragment"
      }
     },
     "outputs": []
    },
    {
     "cell_type": "markdown",
     "metadata": {
      "slideshow": {
       "slide_type": "slide"
      }
     },
     "source": [
      "Basic event handling\n",
      "====================\n",
      "\n",
      "``matplotlib`` has a built-in, toolkit-independent event model that is fairly rich.\n",
      "If you want to develop full-fledged applications with very complex and fast\n",
      "interactions, you are likely better off choosing a specific Graphical User\n",
      "Interface (GUI) toolkit and using its specific event model.  But for many\n",
      "scientific uses, what ``matplotlib`` offers is more than sufficient, and it has the\n",
      "advantage of working identically regardless of the GUI toolkit you choose to\n",
      "run ``matplotlib`` under.\n",
      "\n",
      "Here we will cover the bare essentials only, for full details you should\n",
      "consult the `event handling section`_ of the matplotlib user guide.\n",
      "\n",
      ".. _event handling section: http://matplotlib.sourceforge.net/users/event_handling.html\n",
      "\n",
      "The basic idea of *all* event handling is always the same: the windowing\n",
      "environment registers an event (mouse movement, click, keyboard press, etc)\n",
      "produced by the user.  In advance, you have registered *event handlers*:\n",
      "functions you define that are meant to be called when specific types of events\n",
      "occur.  The registration action is called *connecting* the event handler, and\n",
      "is performed by the ``mpl_connect`` method of the ``figure`` ``canvas`` attribute (the\n",
      "``canvas`` is the drawing area of the ``figure`` object, the entire raw object where\n",
      "events take place).\n",
      "\n",
      "The windowing system will then pass the event (each event has some relevant\n",
      "information that goes with it, such as which key or button was pressed) to your\n",
      "function, which can act on it.  These functions are referred to as *callbacks*,\n",
      "because they are meant to be \"called back\" not by you, but by the windowing\n",
      "toolkit when the right event goes by.\n",
      "\n",
      "Here is the simplest possible ``matplotlib`` event handler:"
     ]
    },
    {
     "cell_type": "code",
     "collapsed": false,
     "input": [
      "%pylab\n",
      "# switch to default backend to plot in interactive windows"
     ],
     "language": "python",
     "metadata": {
      "slideshow": {
       "slide_type": "fragment"
      }
     },
     "outputs": []
    },
    {
     "cell_type": "code",
     "collapsed": false,
     "input": [
      "fig, ax = plt.subplots()\n",
      "ax.plot(np.random.rand(10))\n",
      "\n",
      "def onclick(event):\n",
      "    print 'button=%d, x=%d, y=%d, xdata=%f, ydata=%f'%(\n",
      "        event.button, event.x, event.y, event.xdata, event.ydata)\n",
      "\n",
      "cid = fig.canvas.mpl_connect('button_press_event', onclick)"
     ],
     "language": "python",
     "metadata": {
      "slideshow": {
       "slide_type": "fragment"
      }
     },
     "outputs": []
    },
    {
     "cell_type": "markdown",
     "metadata": {
      "slideshow": {
       "slide_type": "slide"
      }
     },
     "source": [
      "The ``FigureCanvas`` method ``mpl_connect`` returns a connection id which\n",
      "is simply an integer.  When you want to disconnect the callback, just call: ``fig.canvas.mpl_disconnect(cid)``\n",
      "\n",
      "The most commonly used event types are ``KeyEvent`` and ``MouseEvent``, both of\n",
      "which have the following attributes:\n",
      "\n",
      "- ``x`` :- x position - pixels from left of canvas\n",
      "\n",
      "- ``y`` :- y position - pixels from bottom of canvas\n",
      "\n",
      "- ``inaxes`` :- the ``matplotlib.axes.Axes`` instance if mouse is over axes\n",
      "\n",
      "- ``xdata`` :- x coord of mouse in data coords\n",
      "\n",
      "- ``ydata`` :- y coord of mouse in data coords\n",
      "\n",
      "In addition, ``MouseEvent``s have:\n",
      "\n",
      "- ``button`` :- button pressed None, 1, 2, 3, \"up\", \"down\" (up and down are used for scroll events)\n",
      "\n",
      "- ``key`` :- the key pressed: None, any character, \"shift\", \"win\", or \"control\""
     ]
    },
    {
     "cell_type": "markdown",
     "metadata": {
      "slideshow": {
       "slide_type": "slide"
      }
     },
     "source": [
      "Image display\n",
      "=============\n",
      "\n",
      "The ``imshow`` command can display single or multi-channel images.  A simple\n",
      "array of random numbers, plotted in grayscale:"
     ]
    },
    {
     "cell_type": "code",
     "collapsed": false,
     "input": [
      "from matplotlib import cm\n",
      "plt.imshow(np.random.rand(128, 256), cmap=cm.gray, interpolation='nearest')"
     ],
     "language": "python",
     "metadata": {
      "slideshow": {
       "slide_type": "fragment"
      }
     },
     "outputs": []
    },
    {
     "cell_type": "markdown",
     "metadata": {
      "slideshow": {
       "slide_type": "slide"
      }
     },
     "source": [
      "A real photograph is a multichannel image, `imshow` interprets it correctly:"
     ]
    },
    {
     "cell_type": "code",
     "collapsed": false,
     "input": [
      "img = plt.imread('data/dessert.png')\n",
      "plt.imshow(img, origin=\"upper\")\n",
      "plt.xticks([])\n",
      "plt.yticks([])"
     ],
     "language": "python",
     "metadata": {
      "slideshow": {
       "slide_type": "fragment"
      }
     },
     "outputs": []
    },
    {
     "cell_type": "markdown",
     "metadata": {
      "slideshow": {
       "slide_type": "slide"
      }
     },
     "source": [
      "Simple 3D plotting with matplotlib\n",
      "==================================\n",
      "\n",
      "Note that you must execute at least once in your session:"
     ]
    },
    {
     "cell_type": "code",
     "collapsed": false,
     "input": [
      "from mpl_toolkits.mplot3d import Axes3D"
     ],
     "language": "python",
     "metadata": {
      "slideshow": {
       "slide_type": "fragment"
      }
     },
     "outputs": []
    },
    {
     "cell_type": "markdown",
     "metadata": {
      "slideshow": {
       "slide_type": "fragment"
      }
     },
     "source": [
      "One this has been done, you can create 3d axes with the ``projection=\"3d\"`` keyword to ``add_subplot``:\n",
      "\n",
      "     fig = plt.figure()\n",
      "\n",
      "     fig.add_subplot(other-args, projection=\"3d\")"
     ]
    },
    {
     "cell_type": "markdown",
     "metadata": {
      "slideshow": {
       "slide_type": "slide"
      }
     },
     "source": [
      "A simple surface plot:"
     ]
    },
    {
     "cell_type": "code",
     "collapsed": false,
     "input": [
      "from mpl_toolkits.mplot3d.axes3d import Axes3D\n",
      "from matplotlib import cm\n",
      "\n",
      "fig = plt.figure()\n",
      "ax = fig.add_subplot(1, 1, 1, projection=\"3d\")\n",
      "X = np.arange(-5, 5, 0.25)\n",
      "Y = np.arange(-5, 5, 0.25)\n",
      "X, Y = np.meshgrid(X, Y)\n",
      "R = np.sqrt(X**2 + Y**2)\n",
      "Z = np.sin(R)\n",
      "surf = ax.plot_surface(X, Y, Z, rstride=1, cstride=1, cmap=cm.jet,\n",
      "        linewidth=0, antialiased=False)\n",
      "ax.set_zlim3d(-1.01, 1.01)"
     ],
     "language": "python",
     "metadata": {
      "slideshow": {
       "slide_type": "fragment"
      }
     },
     "outputs": []
    },
    {
     "cell_type": "markdown",
     "metadata": {
      "slideshow": {
       "slide_type": "slide"
      }
     },
     "source": [
      "And a parametric surface specified in cylindrical coordinates:"
     ]
    },
    {
     "cell_type": "code",
     "collapsed": false,
     "input": [
      "# 3D plots are more awesome in the default, interactive plot windows\n",
      "%pylab"
     ],
     "language": "python",
     "metadata": {
      "slideshow": {
       "slide_type": "fragment"
      }
     },
     "outputs": []
    },
    {
     "cell_type": "code",
     "collapsed": false,
     "input": [
      "fig = plt.figure()\n",
      "ax = fig.add_subplot(111, projection=\"3d\")\n",
      "theta = np.linspace(-4*np.pi, 4*np.pi, 100)\n",
      "z = np.linspace(-2, 2, 100)\n",
      "r = z**2 + 1\n",
      "x = r*np.sin(theta)\n",
      "y = r*np.cos(theta)\n",
      "ax.plot(x, y, z, label=\"parametric curve\")\n",
      "ax.legend(fontsize=12)"
     ],
     "language": "python",
     "metadata": {
      "slideshow": {
       "slide_type": "fragment"
      }
     },
     "outputs": []
    },
    {
     "cell_type": "markdown",
     "metadata": {
      "slideshow": {
       "slide_type": "slide"
      }
     },
     "source": [
      "Matplotlib Gallery Page\n",
      "======================\n",
      "\n",
      "Go here to browse a large collection of example plots, all with source code. Poke around for something similar to what you want, or just investigate the plots that catch your eye, and then read the source code to learn how it is made with ``matplotlib``."
     ]
    },
    {
     "cell_type": "code",
     "collapsed": false,
     "input": [
      "website('http://matplotlib.org/gallery.html', 'matplotlib Gallery')"
     ],
     "language": "python",
     "metadata": {
      "slideshow": {
       "slide_type": "fragment"
      }
     },
     "outputs": []
    },
    {
     "cell_type": "markdown",
     "metadata": {
      "slideshow": {
       "slide_type": "slide"
      }
     },
     "source": [
      "<div class=\"exercise\">\n",
      "    \n",
      "Breakout Exercise #10\n",
      "============\n",
      "\n",
      "Problem 1\n",
      "--------\n",
      "\n",
      "Consider you have the following data in a text file (The file `data/stations.txt` contains the full dataset):\n",
      "\n",
      "    # Station  Lat    Long   Elev \n",
      "    BIRA    26.4840 87.2670 0.0120\n",
      "    BUNG    27.8771 85.8909 1.1910\n",
      "    GAIG    26.8380 86.6318 0.1660\n",
      "    HILE    27.0482 87.3242 2.0880\n",
      "    ... etc.\n",
      "    \n",
      "    \n",
      "These are the names of seismographic stations in the Himalaya, with their coordinates in degrees and elevations in kilometers.\n",
      "\n",
      "<b>\n",
      "\n",
      "- Make a scatter plot of all of these, using both the size and the color to (redundantly) encode elevation.  Label each station by its 4-letter code, and add a colorbar on the right that shows the color-elevation map.\n",
      "\n",
      "</b>\n",
      "\n",
      "**Tips**\n",
      "    \n",
      "* Use the ``matplotlib`` online documentation to learn about drawing the color bar. You will want to save the returned object from the ``scatter`` plotting call.\n",
      "    \n",
      "* To label each station with its 4-letter code you can loop through them all and ``annotate`` each.\n",
      "    "
     ]
    },
    {
     "cell_type": "markdown",
     "metadata": {
      "slideshow": {
       "slide_type": "fragment"
      }
     },
     "source": [
      "Problem 2\n",
      "---------\n",
      "\n",
      "<b>\n",
      "\n",
      "- Extend the seismic station scatter plot exercise above so that the console prints the station ID (four-letter string) when you click on it in the plot window. Use a threshold for distance, and discriminate between a click below threshold (considered to be \"on\") vs a miss, in which case you should indicate what the closest station is, its coordinates, and the distance to it from the click.\n",
      "\n",
      "</b>\n",
      "\n",
      "**Tips**\n",
      "    \n",
      "* This one's hard. You should define a class to do the event handling.\n",
      "* This expanded tutorial will help: http://matplotlib.sourceforge.net/users/event_handling.html\n",
      "    "
     ]
    },
    {
     "cell_type": "markdown",
     "metadata": {
      "slideshow": {
       "slide_type": "fragment"
      }
     },
     "source": [
      "Problem 3\n",
      "---------\n",
      "\n",
      "Write a notebook where you can load the image ``data/dessert.png`` and then perform the following operations on it:\n",
      "\n",
      "<b>\n",
      "\n",
      "- Create a figure with four plots that show both the full-color image and color channel of the image with the right colormap for that color. Ensure that the axes are linked so zooming in one image zooms the same region in the others.\n",
      "\n",
      "- Compute a luminosity and per-channel histogram and display all four histograms in one figure, giving each a separate plot (hint: a 4x1 plot works best for this). Link the appropriate axes together.\n",
      "\n",
      "- Create a black-and-white (or more precisely, grayscale) version of the image. Compare the results from a naive average of all three channels with that of a model that uses 30% red, 59% green and 11% blue, by displaying all three (full color and both grayscales) side by side with linked axes for zooming.\n",
      "</b>\n",
      "\n",
      "**Tips**\n",
      "    \n",
      "* ``matplotlib`` image tutorial: http://matplotlib.org/users/image_tutorial.html"
     ]
    },
    {
     "cell_type": "markdown",
     "metadata": {
      "slideshow": {
       "slide_type": "slide"
      }
     },
     "source": [
      "<div class=\"slide-header\">Breakout Exercise 10, Problem 1 Plot</div>\n",
      "<center>\n",
      "<img src=\"files/breakout_10_1.png\" width=\"80%\">\n",
      "</center>"
     ]
    },
    {
     "cell_type": "markdown",
     "metadata": {
      "slideshow": {
       "slide_type": "slide"
      }
     },
     "source": [
      "<div class=\"slide-header\">Breakout Exercise 10, Problem 3 Images and Plot</div>\n",
      "<center>\n",
      "<img src=\"files/breakout_10_3a.png\" width=\"80%\">\n",
      "<img src=\"files/breakout_10_3b.png\" width=\"80%\">\n",
      "<img src=\"files/breakout_10_3c.png\" width=\"80%\">\n",
      "</center>"
     ]
    }
   ],
   "metadata": {}
  }
 ]
}