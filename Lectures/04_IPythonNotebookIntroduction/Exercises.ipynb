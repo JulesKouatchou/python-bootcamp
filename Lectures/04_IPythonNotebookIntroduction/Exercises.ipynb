{
 "metadata": {
  "name": ""
 },
 "nbformat": 3,
 "nbformat_minor": 0,
 "worksheets": [
  {
   "cells": [
    {
     "cell_type": "heading",
     "level": 1,
     "metadata": {},
     "source": [
      "Exercises with IPython and the Notebook"
     ]
    },
    {
     "cell_type": "markdown",
     "metadata": {},
     "source": [
      "## Using notebooks made available by others on the Internet\n",
      "\n",
      "Find a Notebook shared from the [IPython Notebook Gallery](https://github.com/ipython/ipython/wiki/A-gallery-of-interesting-IPython-Notebooks) and Download it via \n",
      "http://nbviewer.ipython.org. Then import it into your running Notebook server using the Dashboard."
     ]
    },
    {
     "cell_type": "markdown",
     "metadata": {},
     "source": [
      "## Basic cell operations\n",
      "\n",
      "Recall, the Notebook can contain cells of the following types:\n",
      "\n",
      "* Code\n",
      "* Markdown\n",
      "* Raw text\n",
      "* Heading\n",
      "\n",
      "Create a new Notebook that has at least one of each cell type.  Practice the following cell operations:\n",
      "\n",
      "* Moving up/down\n",
      "* Cut/Copy/Paste\n",
      "* Merge/Split"
     ]
    },
    {
     "cell_type": "markdown",
     "metadata": {},
     "source": [
      "## Keyboard shortcuts\n",
      "Go back to that last Notebook and repeat some of those cell operations using keyboard shortcuts:\n",
      "\n",
      "* Inserting cells above/below\n",
      "* Delete cell\n",
      "* Move cell up/down\n",
      "* Cut/copy/paste cell\n",
      "* Changing cell types"
     ]
    },
    {
     "cell_type": "markdown",
     "metadata": {},
     "source": [
      "## Markdown cells\n",
      "\n",
      "If you still have time, study the notebook titled \"Markdown Cells\" and solve the small exercises included therein."
     ]
    }
   ],
   "metadata": {}
  }
 ]
}