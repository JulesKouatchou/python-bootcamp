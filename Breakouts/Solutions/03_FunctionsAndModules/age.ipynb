{
 "metadata": {
  "name": "age"
 },
 "nbformat": 3,
 "nbformat_minor": 0,
 "worksheets": [
  {
   "cells": [
    {
     "cell_type": "markdown",
     "metadata": {},
     "source": [
      "\n",
      "Breakout 4 : Functions and Modules\n",
      "====================================\n",
      "\n"
     ]
    },
    {
     "cell_type": "markdown",
     "metadata": {},
     "source": [
      "In the breakout, we should do this work in a files called age.py rather than in the notebook. However, if you are more comfortable in the notebook, the solution to the first part of the problem can be found in this notebook. \n",
      "\n",
      "First, we want to import datetime, which is a python module for dates and times and such. "
     ]
    },
    {
     "cell_type": "code",
     "collapsed": false,
     "input": [
      "import datetime"
     ],
     "language": "python",
     "metadata": {},
     "outputs": []
    },
    {
     "cell_type": "markdown",
     "metadata": {},
     "source": [
      "Next, we want to use datetime.datetime() to create a variable representing when John Cleese was born.\n",
      "\n",
      "Note that utcnow() gives the universal time, while .now() gives the local time. We're ignoring timezone stuff here."
     ]
    },
    {
     "cell_type": "code",
     "collapsed": false,
     "input": [
      "born = datetime.datetime(1939, 10, 27)"
     ],
     "language": "python",
     "metadata": {},
     "outputs": []
    },
    {
     "cell_type": "markdown",
     "metadata": {},
     "source": [
      "Then use datetime.datetime.now() to create a variable representing now.\n",
      "\n"
     ]
    },
    {
     "cell_type": "code",
     "collapsed": false,
     "input": [
      "now = datetime.datetime.now()"
     ],
     "language": "python",
     "metadata": {},
     "outputs": []
    },
    {
     "cell_type": "markdown",
     "metadata": {},
     "source": [
      "Next, subtract the two, forming a new variable, which will be a datetime.timedelta() object."
     ]
    },
    {
     "cell_type": "code",
     "collapsed": false,
     "input": [
      "cleese_age = now - born"
     ],
     "language": "python",
     "metadata": {},
     "outputs": []
    },
    {
     "cell_type": "markdown",
     "metadata": {},
     "source": [
      "Finally, print that variable."
     ]
    },
    {
     "cell_type": "code",
     "collapsed": false,
     "input": [
      "print cleese_age"
     ],
     "language": "python",
     "metadata": {},
     "outputs": []
    },
    {
     "cell_type": "markdown",
     "metadata": {},
     "source": [
      "Grab just the days : "
     ]
    },
    {
     "cell_type": "code",
     "collapsed": false,
     "input": [
      "print \"days John Cleese has been alive : \",cleese_age.days"
     ],
     "language": "python",
     "metadata": {},
     "outputs": []
    },
    {
     "cell_type": "markdown",
     "metadata": {},
     "source": [
      "There is no hours data member, so let's multiply to find the hours : "
     ]
    },
    {
     "cell_type": "code",
     "collapsed": false,
     "input": [
      "print \"hours John Cleese has been alive : \",cleese_age.days*24"
     ],
     "language": "python",
     "metadata": {},
     "outputs": []
    },
    {
     "cell_type": "markdown",
     "metadata": {},
     "source": [
      "What will be the date in 1000 days from now?\n"
     ]
    },
    {
     "cell_type": "code",
     "collapsed": false,
     "input": [
      "td = datetime.timedelta(days=1000)"
     ],
     "language": "python",
     "metadata": {},
     "outputs": []
    },
    {
     "cell_type": "markdown",
     "metadata": {},
     "source": [
      "Print it."
     ]
    },
    {
     "cell_type": "code",
     "collapsed": false,
     "input": [
      "print \"in 1000 days it will be \",now + td  # this is a datetime object"
     ],
     "language": "python",
     "metadata": {},
     "outputs": []
    }
   ],
   "metadata": {}
  }
 ]
}