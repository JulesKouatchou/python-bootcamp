{
 "metadata": {
  "name": ""
 },
 "nbformat": 3,
 "nbformat_minor": 0,
 "worksheets": [
  {
   "cells": [
    {
     "cell_type": "markdown",
     "metadata": {
      "slideshow": {
       "slide_type": "slide"
      }
     },
     "source": [
      "<p class=\"title\">Breakout 2 Solutions</p>\n",
      "\n",
      "<p class=\"subtitle\">Sorting airline data</p>\n",
      "\n",
      "<center>\n",
      "\n",
      "<p class=\"gap05\"><p>\n",
      "<h3>Python Boot Camp</h3>\n",
      "<h3>August 26th, 2013</h3>\n",
      "\n",
      "\n",
      "</center>\n",
      "\n",
      "\n",
      "\n"
     ]
    },
    {
     "cell_type": "code",
     "collapsed": false,
     "input": [
      "# Loading CSS for slideshow\n",
      "%run talktools"
     ],
     "language": "python",
     "metadata": {
      "slideshow": {
       "slide_type": "skip"
      }
     },
     "outputs": [
      {
       "html": [
        "<style>\n",
        "\n",
        ".rendered_html\n",
        "{\n",
        "  color: #2C5494;\n",
        "  font-family: Ubuntu;\n",
        "  font-size: 140%;\n",
        "  line-height: 1.1;\n",
        "  margin: 0.5em 0;\n",
        "  }\n",
        "\n",
        ".title\n",
        "{\n",
        "  color: #498AF3;\n",
        "  font-size: 250%;\n",
        "  font-weight:bold;\n",
        "  line-height: 1.2; \n",
        "  margin: 10px 50px 10px;\n",
        "  }\n",
        "\n",
        ".subtitle\n",
        "{\n",
        "  color: #386BBC;\n",
        "  font-size: 180%;\n",
        "  font-weight:bold;\n",
        "  line-height: 1.2; \n",
        "  margin: 20px 50px 20px;\n",
        "  }\n",
        "\n",
        ".slide-header, p.slide-header\n",
        "{\n",
        "  color: #498AF3;\n",
        "  font-size: 200%;\n",
        "  font-weight:bold;\n",
        "  margin: 0px 20px 10px;\n",
        "  page-break-before: always;\n",
        "  text-align: center;\n",
        "  }\n",
        "\n",
        ".rendered_html h1\n",
        "{\n",
        "  color: #498AF3;\n",
        "  line-height: 1.2; \n",
        "  margin: 0.15em 0em 0.5em;\n",
        "  page-break-before: always;\n",
        "  text-align: center;\n",
        "  }\n",
        "\n",
        ".rendered_html h2\n",
        "{ \n",
        "  color: #386BBC;\n",
        "  line-height: 1.2;\n",
        "  margin: 1.1em 0em 0.5em;\n",
        "  }\n",
        "\n",
        ".rendered_html h3\n",
        "{ \n",
        "  font-size: 100%;\n",
        "  line-height: 1.2;\n",
        "  margin: 1.1em 0em 0.5em;\n",
        "  }\n",
        "\n",
        ".rendered_html li\n",
        "{\n",
        "  line-height: 1.8;\n",
        "  }\n",
        "\n",
        ".input_prompt, .CodeMirror-lines, .output_area\n",
        "{\n",
        "  font-family: Consolas;\n",
        "  font-size: 120%;\n",
        "  }\n",
        "\n",
        ".gap-above\n",
        "{\n",
        "  padding-top: 200px;\n",
        "  }\n",
        "\n",
        ".gap01\n",
        "{\n",
        "  padding-top: 10px;\n",
        "  }\n",
        "\n",
        ".gap05\n",
        "{\n",
        "  padding-top: 50px;\n",
        "  }\n",
        "\n",
        ".gap1\n",
        "{\n",
        "  padding-top: 100px;\n",
        "  }\n",
        "\n",
        ".gap2\n",
        "{\n",
        "  padding-top: 200px;\n",
        "  }\n",
        "\n",
        ".gap3\n",
        "{\n",
        "  padding-top: 300px;\n",
        "  }\n",
        "\n",
        ".emph\n",
        "{\n",
        "  color: #386BBC;\n",
        "  }\n",
        "\n",
        ".warn\n",
        "{\n",
        "  color: red;\n",
        "  }\n",
        "\n",
        ".center\n",
        "{\n",
        "  text-align: center;\n",
        "  }\n",
        "\n",
        ".nb_link\n",
        "{\n",
        "    padding-bottom: 0.5em;\n",
        "}\n",
        "\n",
        ".comment { color: green; display:inline; }\n",
        "\n",
        ".object\n",
        "{\n",
        "  font-family: Courier Bold;\n",
        "  font-size: 120%;\n",
        "  background-color: #89bAF3;\n",
        "  text-align: center;\n",
        "  width: 600px;\n",
        "  margin: 30px;\n",
        "}\n",
        "\n",
        ".instance\n",
        "{\n",
        "  font-family: Courier Bold;\n",
        "  font-size: 120%;\n",
        "  background-color: #f9bAF3;\n",
        "  text-align: center;\n",
        "  width: 600px;\n",
        "  margin: 30px;\n",
        "}\n",
        "\n",
        "</style>\n"
       ],
       "metadata": {},
       "output_type": "display_data",
       "text": [
        "<IPython.core.display.HTML at 0x1a9c030>"
       ]
      }
     ],
     "prompt_number": 18
    },
    {
     "cell_type": "markdown",
     "metadata": {
      "slideshow": {
       "slide_type": "slide"
      }
     },
     "source": [
      "\n",
      "### First, copy over the airport and flight information from [airline.py](https://raw.github.com/profjsb/python-bootcamp/master/DataFiles_and_Notebooks/02_AdvancedDataStructures/airline.py). ###"
     ]
    },
    {
     "cell_type": "code",
     "collapsed": true,
     "input": [
      "airports = {\"DCA\": \"Washington, D.C.\", \"IAD\": \"Dulles\", \"LHR\": \"London-Heathrow\", \\\n",
      "            \"SVO\": \"Moscow\", \"CDA\": \"Chicago-Midway\", \"SBA\": \"Santa Barbara\", \"LAX\": \"Los Angeles\",\\\n",
      "            \"JFK\": \"New York City\", \"MIA\": \"Miami\", \"AUM\": \"Austin, Minnesota\"}"
     ],
     "language": "python",
     "metadata": {
      "slideshow": {
       "slide_type": "fragment"
      }
     },
     "outputs": []
    },
    {
     "cell_type": "code",
     "collapsed": true,
     "input": [
      "# airline, number, heading to, gate, time (decimal hours) \n",
      "flights = [(\"Southwest\",145,\"DCA\",1,6.00),(\"United\",31,\"IAD\",1,7.1),(\"United\",302,\"LHR\",5,6.5),\\\n",
      "           (\"Aeroflot\",34,\"SVO\",5,9.00),(\"Southwest\",146,\"CDA\",1,9.60), (\"United\",46,\"LAX\",5,6.5),\\\n",
      "           (\"Southwest\",23,\"SBA\",6,12.5),(\"United\",2,\"LAX\",10,12.5),(\"Southwest\",59,\"LAX\",11,14.5),\\\n",
      "           (\"American\", 1,\"JFK\",12,11.3),(\"USAirways\", 8,\"MIA\",20,13.1),(\"United\",2032,\"MIA\",21,15.1),\\\n",
      "           (\"SpamAir\",1,\"AUM\",42,14.4)]"
     ],
     "language": "python",
     "metadata": {
      "slideshow": {
       "slide_type": "fragment"
      }
     },
     "outputs": []
    },
    {
     "cell_type": "markdown",
     "metadata": {
      "slideshow": {
       "slide_type": "slide"
      }
     },
     "source": [
      "<h2>Sorting by Airline</h2>\n",
      "### We can sort the flight information by airline by running a simple sort on the list. ###\n"
     ]
    },
    {
     "cell_type": "code",
     "collapsed": false,
     "input": [
      "# Sort the list of flights.\n",
      "flights.sort() "
     ],
     "language": "python",
     "metadata": {
      "slideshow": {
       "slide_type": "fragment"
      }
     },
     "outputs": [],
     "prompt_number": 20
    },
    {
     "cell_type": "markdown",
     "metadata": {
      "slideshow": {
       "slide_type": "fragment"
      }
     },
     "source": [
      "When we called flights.sort() we resorted the list based on the first element of each tuple (airline) and then, when multiple flights are operated by one ariline, by the flight number."
     ]
    },
    {
     "cell_type": "code",
     "collapsed": false,
     "input": [
      "for flight in flights:\n",
      "    print flight"
     ],
     "language": "python",
     "metadata": {
      "slideshow": {
       "slide_type": "fragment"
      }
     },
     "outputs": [
      {
       "output_type": "stream",
       "stream": "stdout",
       "text": [
        "('Aeroflot', 34, 'SVO', 5, 9.0)\n",
        "('American', 1, 'JFK', 12, 11.3)\n",
        "('Southwest', 23, 'SBA', 6, 12.5)\n",
        "('Southwest', 59, 'LAX', 11, 14.5)\n",
        "('Southwest', 145, 'DCA', 1, 6.0)\n",
        "('Southwest', 146, 'CDA', 1, 9.6)\n",
        "('SpamAir', 1, 'AUM', 42, 14.4)\n",
        "('USAirways', 8, 'MIA', 20, 13.1)\n",
        "('United', 2, 'LAX', 10, 12.5)\n",
        "('United', 31, 'IAD', 1, 7.1)\n",
        "('United', 46, 'LAX', 5, 6.5)\n",
        "('United', 302, 'LHR', 5, 6.5)\n",
        "('United', 2032, 'MIA', 21, 15.1)\n"
       ]
      }
     ],
     "prompt_number": 21
    },
    {
     "cell_type": "markdown",
     "metadata": {
      "slideshow": {
       "slide_type": "slide"
      }
     },
     "source": [
      "<h2>Printing the list</h2>\n",
      "###Now we want to print out the sorted list in a nicer format.###\n",
      "\n",
      "Note that when printing, we lookup the destination name by the airport code key in the airports dictionary."
     ]
    },
    {
     "cell_type": "code",
     "collapsed": false,
     "input": [
      "# Print out the header. the \\t character prints a tab.\n",
      "print \"Flight    \\tDestination\\t\\tGate\\tTime\"\n",
      "print \"-\"*53 #53 instances of the \"-\" character\n",
      "\n",
      "# Loop through each of the flight tuples in the sorted list\n",
      "# Recall that each tuple contains the elements: (airline, number, destination lookup code, gate, time)\n",
      "for flight in flights:\n",
      "    # Use the dest lookup code (3rd element of the flight tuple) to get the full destination string from the airports dict\n",
      "    dest = airports[flight[2]]\n",
      "    dest += \" \"*(20 - len(dest))  # add the appropriate amount of whitespace after the Destination string\n",
      "    # Print the nicely formatted string. Don't forget to convert int and float types to strings using str()\n",
      "    print flight[0] + \" \" + str(flight[1]) + \"\\t\" + dest + \"\\t\" + str(flight[3]) + \"\\t\" + str(flight[4])"
     ],
     "language": "python",
     "metadata": {
      "slideshow": {
       "slide_type": "fragment"
      }
     },
     "outputs": [
      {
       "output_type": "stream",
       "stream": "stdout",
       "text": [
        "Flight    \tDestination\t\tGate\tTime\n",
        "-----------------------------------------------------\n",
        "Aeroflot 34\tMoscow              \t5\t9.0\n",
        "American 1\tNew York City       \t12\t11.3\n",
        "Southwest 23\tSanta Barbara       \t6\t12.5\n",
        "Southwest 59\tLos Angeles         \t11\t14.5\n",
        "Southwest 145\tWashington, D.C.    \t1\t6.0\n",
        "Southwest 146\tChicago-Midway      \t1\t9.6\n",
        "SpamAir 1\tAustin, Minnesota   \t42\t14.4\n",
        "USAirways 8\tMiami               \t20\t13.1\n",
        "United 2\tLos Angeles         \t10\t12.5\n",
        "United 31\tDulles              \t1\t7.1\n",
        "United 46\tLos Angeles         \t5\t6.5\n",
        "United 302\tLondon-Heathrow     \t5\t6.5\n",
        "United 2032\tMiami               \t21\t15.1\n"
       ]
      }
     ],
     "prompt_number": 22
    },
    {
     "cell_type": "markdown",
     "metadata": {
      "slideshow": {
       "slide_type": "slide"
      }
     },
     "source": [
      "<h2>Sorting by Departure Time</h2>\n",
      "### Sorting the information by time requires a bit more coding. ###\n",
      "First, we create a new list, time_ordered_flights, which initially just contains the first element of the list flights."
     ]
    },
    {
     "cell_type": "code",
     "collapsed": false,
     "input": [
      "# Create a new list, time_ordered, which initially just contains the first element of the list flights\n",
      "time_ordered_flights = [flights[0]]"
     ],
     "language": "python",
     "metadata": {
      "slideshow": {
       "slide_type": "fragment"
      }
     },
     "outputs": [],
     "prompt_number": 23
    },
    {
     "cell_type": "code",
     "collapsed": false,
     "input": [
      "print time_ordered_flights"
     ],
     "language": "python",
     "metadata": {
      "slideshow": {
       "slide_type": "skip"
      }
     },
     "outputs": [
      {
       "output_type": "stream",
       "stream": "stdout",
       "text": [
        "[('Aeroflot', 34, 'SVO', 5, 9.0)]\n"
       ]
      }
     ],
     "prompt_number": 24
    },
    {
     "cell_type": "markdown",
     "metadata": {
      "slideshow": {
       "slide_type": "fragment"
      }
     },
     "source": [
      "We then loop through the remaining flights and insert it into the proper position in time_ordered_flights by comparing the time element in each flight tuple (at the fifth index position).\n",
      "\n",
      "We determine where the current flight belongs by manually comparing the times of the flights already added to time_ordered_flights.  (This is really trivial with lambda functions, which you'll learn later.)"
     ]
    },
    {
     "cell_type": "code",
     "collapsed": true,
     "input": [
      "# Iterate through each of the remaining elements in flights to see where it should go in the sorted list\n",
      "for flight in flights[1:]:\n",
      "    # Does it belong in the beginning?\n",
      "    if flight[4] < time_ordered_flights[0][4]: # is current flight's time less than the time in the first list element?\n",
      "        time_ordered_flights.insert(0,flight)  # insert the flight tuple at position 0 in the list \n",
      "        continue\n",
      "    ## ... or the end?\n",
      "    if flight[4] > time_ordered_flights[-1][4]: # is current flight's time greater than the time in the last list element?\n",
      "        time_ordered_flights.append(flight) # append the flight tuple to the end of the list \n",
      "        continue\n",
      "    ## Or is it in the middle? Loop through each element and see if the current flight is between two adjacent ones\n",
      "    ## note that range(N) returns a list [0, 1, ... , N-1] \n",
      "    for i in range(len(time_ordered_flights) - 1): \n",
      "        if flight[4] >= time_ordered_flights[i][4] and flight[4] <= time_ordered_flights[i+1][4]:\n",
      "            time_ordered_flights.insert(i+1,flight) # insert the flight tuple at position i+1 in the list\n",
      "            break"
     ],
     "language": "python",
     "metadata": {
      "slideshow": {
       "slide_type": "fragment"
      }
     },
     "outputs": [],
     "prompt_number": 26
    },
    {
     "cell_type": "markdown",
     "metadata": {
      "slideshow": {
       "slide_type": "slide"
      }
     },
     "source": [
      "The printing procedure is the same as before."
     ]
    },
    {
     "cell_type": "code",
     "collapsed": false,
     "input": [
      "print \"Flight    \\tDestination\\t\\tGate\\tTime\"\n",
      "print \"-\"*53\n",
      "for flight in time_ordered_flights:\n",
      "    dest = airports[flight[2]]\n",
      "    dest += \" \"*(20 - len(dest))\n",
      "    print flight[0] + \" \" + str(flight[1]) + \"\\t\" + dest + \"\\t\" + str(flight[3]) + \"\\t\" + str(flight[4])  "
     ],
     "language": "python",
     "metadata": {
      "slideshow": {
       "slide_type": "fragment"
      }
     },
     "outputs": [
      {
       "output_type": "stream",
       "stream": "stdout",
       "text": [
        "Flight    \tDestination\t\tGate\tTime\n",
        "-----------------------------------------------------\n",
        "Southwest 145\tWashington, D.C.    \t1\t6.0\n",
        "United 302\tLondon-Heathrow     \t5\t6.5\n",
        "United 46\tLos Angeles         \t5\t6.5\n",
        "United 31\tDulles              \t1\t7.1\n",
        "Aeroflot 34\tMoscow              \t5\t9.0\n",
        "Southwest 146\tChicago-Midway      \t1\t9.6\n",
        "American 1\tNew York City       \t12\t11.3\n",
        "United 2\tLos Angeles         \t10\t12.5\n",
        "Southwest 23\tSanta Barbara       \t6\t12.5\n",
        "USAirways 8\tMiami               \t20\t13.1\n",
        "SpamAir 1\tAustin, Minnesota   \t42\t14.4\n",
        "Southwest 59\tLos Angeles         \t11\t14.5\n",
        "United 2032\tMiami               \t21\t15.1\n"
       ]
      }
     ],
     "prompt_number": 27
    },
    {
     "cell_type": "markdown",
     "metadata": {
      "slideshow": {
       "slide_type": "slide"
      }
     },
     "source": [
      "### One line sorting solution. ###\n",
      "We can use the operator.itemgetter() function as the key in sort and sort by the time (4th) element."
     ]
    },
    {
     "cell_type": "code",
     "collapsed": false,
     "input": [
      "import operator\n",
      "flights.sort(key=operator.itemgetter(4))\n",
      "print \"Flight    \\tDestination\\t\\tGate\\tTime\"\n",
      "print \"-\"*53\n",
      "for flight in flights:\n",
      "    dest = airports[flight[2]]\n",
      "    dest += \" \"*(20 - len(dest))\n",
      "    print flight[0] + \" \" + str(flight[1]) + \"\\t\" + dest + \"\\t\" + str(flight[3]) + \"\\t\" + str(flight[4])"
     ],
     "language": "python",
     "metadata": {
      "slideshow": {
       "slide_type": "fragment"
      }
     },
     "outputs": [
      {
       "output_type": "stream",
       "stream": "stdout",
       "text": [
        "Flight    \tDestination\t\tGate\tTime\n",
        "-----------------------------------------------------\n",
        "Southwest 145\tWashington, D.C.    \t1\t6.0\n",
        "United 46\tLos Angeles         \t5\t6.5\n",
        "United 302\tLondon-Heathrow     \t5\t6.5\n",
        "United 31\tDulles              \t1\t7.1\n",
        "Aeroflot 34\tMoscow              \t5\t9.0\n",
        "Southwest 146\tChicago-Midway      \t1\t9.6\n",
        "American 1\tNew York City       \t12\t11.3\n",
        "Southwest 23\tSanta Barbara       \t6\t12.5\n",
        "United 2\tLos Angeles         \t10\t12.5\n",
        "USAirways 8\tMiami               \t20\t13.1\n",
        "SpamAir 1\tAustin, Minnesota   \t42\t14.4\n",
        "Southwest 59\tLos Angeles         \t11\t14.5\n",
        "United 2032\tMiami               \t21\t15.1\n"
       ]
      }
     ],
     "prompt_number": 28
    },
    {
     "cell_type": "markdown",
     "metadata": {
      "slideshow": {
       "slide_type": "slide"
      }
     },
     "source": [
      "###Alternate printing solution###\n",
      "Define how many spaces you want each string to occupy. Add enough trailing spaces to each element to fill this number. We'll go over string formatting more tomorrow. "
     ]
    },
    {
     "cell_type": "code",
     "collapsed": false,
     "input": [
      "print \"%.20s %.20s %.6s %.5s\" % (\"Flight\"+20*' ', \"Destination\"+20*' ', \"Gate\"+20*' ', \"Time\"+20*' ')\n",
      "print \"-\"*53\n",
      "for flight in flights:\n",
      "    print \"%.20s %.20s %.6s %.5s\" % (flight[0] + ' ' + str(flight[1])+20*' ', airports[flight[2]]+20*' ', str(flight[3])+20*' ', str(flight[4])+20*' ')"
     ],
     "language": "python",
     "metadata": {},
     "outputs": [
      {
       "output_type": "stream",
       "stream": "stdout",
       "text": [
        "Flight               Destination          Gate   Time \n",
        "-----------------------------------------------------\n",
        "Southwest 145        Washington, D.C.     1      6.0  \n",
        "United 46            Los Angeles          5      6.5  \n",
        "United 302           London-Heathrow      5      6.5  \n",
        "United 31            Dulles               1      7.1  \n",
        "Aeroflot 34          Moscow               5      9.0  \n",
        "Southwest 146        Chicago-Midway       1      9.6  \n",
        "American 1           New York City        12     11.3 \n",
        "Southwest 23         Santa Barbara        6      12.5 \n",
        "United 2             Los Angeles          10     12.5 \n",
        "USAirways 8          Miami                20     13.1 \n",
        "SpamAir 1            Austin, Minnesota    42     14.4 \n",
        "Southwest 59         Los Angeles          11     14.5 \n",
        "United 2032          Miami                21     15.1 \n"
       ]
      }
     ],
     "prompt_number": 29
    },
    {
     "cell_type": "code",
     "collapsed": false,
     "input": [],
     "language": "python",
     "metadata": {},
     "outputs": []
    }
   ],
   "metadata": {}
  }
 ]
}