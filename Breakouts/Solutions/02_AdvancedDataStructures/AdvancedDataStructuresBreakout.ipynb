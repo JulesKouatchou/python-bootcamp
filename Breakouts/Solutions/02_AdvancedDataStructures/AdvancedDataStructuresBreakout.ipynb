{
 "metadata": {
  "name": "AdvancedDataStructuresBreakout"
 },
 "nbformat": 3,
 "nbformat_minor": 0,
 "worksheets": [
  {
   "cells": [
    {
     "cell_type": "code",
     "collapsed": false,
     "input": [
      "airports = {\"DCA\": \"Washington, D.C.\", \"IAD\": \"Dulles\", \"LHR\": \"London-Heathrow\", \\\n",
      "            \"SVO\": \"Moscow\", \"CDA\": \"Chicago-Midway\", \"SBA\": \"Santa Barbara\", \"LAX\": \"Los Angeles\",\\\n",
      "            \"JFK\": \"New York City\", \"MIA\": \"Miami\", \"AUM\": \"Austin, Minnesota\"}\n",
      "            \n",
      "# airline, number, heading to, gate, time (decimal hours) \n",
      "flights = [(\"Southwest\",145,\"DCA\",1,6.00),(\"United\",31,\"IAD\",1,7.1),(\"United\",302,\"LHR\",5,6.5),\\\n",
      "           (\"Aeroflot\",34,\"SVO\",5,9.00),(\"Southwest\",146,\"CDA\",1,9.60), (\"United\",46,\"LAX\",5,6.5),\\\n",
      "           (\"Southwest\",23,\"SBA\",6,12.5),(\"United\",2,\"LAX\",10,12.5),(\"Southwest\",59,\"LAX\",11,14.5),\\\n",
      "           (\"American\", 1,\"JFK\",12,11.3),(\"USAirways\", 8,\"MIA\",20,13.1),(\"United\",2032,\"MIA\",21,15.1),\\\n",
      "           (\"SpamAir\",1,\"AUM\",42,14.4)]"
     ],
     "language": "python",
     "metadata": {},
     "outputs": [],
     "prompt_number": 1
    },
    {
     "cell_type": "code",
     "collapsed": false,
     "input": [
      "flights.sort()"
     ],
     "language": "python",
     "metadata": {},
     "outputs": [],
     "prompt_number": 2
    },
    {
     "cell_type": "code",
     "collapsed": false,
     "input": [
      "header = \"Flight\\t\\tDestination\\t\\tGate\\tTime\"\n",
      "tableline = \"-\"*52"
     ],
     "language": "python",
     "metadata": {},
     "outputs": [],
     "prompt_number": 3
    },
    {
     "cell_type": "code",
     "collapsed": false,
     "input": [
      "print header\n",
      "print tableline\n",
      "for flight in flights:\n",
      "    dest = airports[flight[2]]\n",
      "    dest += \" \"*(20-len(dest))\n",
      "    print flight[0] + \" \" + str(flight[1]) + \"\\t\" + dest + \"\\t\" + str(flight[3]) + \"\\t\" + str(flight[4])"
     ],
     "language": "python",
     "metadata": {},
     "outputs": [
      {
       "output_type": "stream",
       "stream": "stdout",
       "text": [
        "Flight\t\tDestination\t\tGate\tTime\n",
        "----------------------------------------------------\n",
        "Aeroflot 34\tMoscow              \t5\t9.0\n",
        "American 1\tNew York City       \t12\t11.3\n",
        "Southwest 23\tSanta Barbara       \t6\t12.5\n",
        "Southwest 59\tLos Angeles         \t11\t14.5\n",
        "Southwest 145\tWashington, D.C.    \t1\t6.0\n",
        "Southwest 146\tChicago-Midway      \t1\t9.6\n",
        "SpamAir 1\tAustin, Minnesota   \t42\t14.4\n",
        "USAirways 8\tMiami               \t20\t13.1\n",
        "United 2\tLos Angeles         \t10\t12.5\n",
        "United 31\tDulles              \t1\t7.1\n",
        "United 46\tLos Angeles         \t5\t6.5\n",
        "United 302\tLondon-Heathrow     \t5\t6.5\n",
        "United 2032\tMiami               \t21\t15.1\n"
       ]
      }
     ],
     "prompt_number": 4
    },
    {
     "cell_type": "code",
     "collapsed": false,
     "input": [
      "flights2 = [(flight[4], flight[0], flight[1], flight[2], flight[3]) for flight in flights]\n",
      "flights2.sort()       "
     ],
     "language": "python",
     "metadata": {},
     "outputs": [],
     "prompt_number": 5
    },
    {
     "cell_type": "code",
     "collapsed": false,
     "input": [
      "print header\n",
      "print tableline\n",
      "for flight in flights2:\n",
      "    dest = airports[flight[3]]\n",
      "    dest += \" \"*(20-len(dest))\n",
      "    print flight[1] + \" \" + str(flight[2]) + \"\\t\" + dest + \"\\t\" + str(flight[4]) + \"\\t\" + str(flight[0])"
     ],
     "language": "python",
     "metadata": {},
     "outputs": [
      {
       "output_type": "stream",
       "stream": "stdout",
       "text": [
        "Flight\t\tDestination\t\tGate\tTime\n",
        "----------------------------------------------------\n",
        "Southwest 145\tWashington, D.C.    \t1\t6.0\n",
        "United 46\tLos Angeles         \t5\t6.5\n",
        "United 302\tLondon-Heathrow     \t5\t6.5\n",
        "United 31\tDulles              \t1\t7.1\n",
        "Aeroflot 34\tMoscow              \t5\t9.0\n",
        "Southwest 146\tChicago-Midway      \t1\t9.6\n",
        "American 1\tNew York City       \t12\t11.3\n",
        "Southwest 23\tSanta Barbara       \t6\t12.5\n",
        "United 2\tLos Angeles         \t10\t12.5\n",
        "USAirways 8\tMiami               \t20\t13.1\n",
        "SpamAir 1\tAustin, Minnesota   \t42\t14.4\n",
        "Southwest 59\tLos Angeles         \t11\t14.5\n",
        "United 2032\tMiami               \t21\t15.1\n"
       ]
      }
     ],
     "prompt_number": 6
    },
    {
     "cell_type": "code",
     "collapsed": false,
     "input": [],
     "language": "python",
     "metadata": {},
     "outputs": [],
     "prompt_number": 6
    }
   ],
   "metadata": {}
  }
 ]
}