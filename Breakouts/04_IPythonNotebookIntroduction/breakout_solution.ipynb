{
 "metadata": {
  "name": ""
 },
 "nbformat": 3,
 "nbformat_minor": 0,
 "worksheets": [
  {
   "cells": [
    {
     "cell_type": "markdown",
     "metadata": {},
     "source": [
      "# IPython Intro Breakout Session\n",
      "\n",
      "Interactive exploration\n",
      "-----------------------\n",
      "\n",
      "I have shown you the Zen of Python. But if you search through all of the python\n",
      "source code, you will not find the word \"Zen\" anywhere.\n",
      "\n",
      "\n",
      "\n",
      "Use `<TAB>`, `?` and `??` on the  `this` module to decode this string:"
     ]
    },
    {
     "cell_type": "code",
     "collapsed": true,
     "input": [
      "import this\n",
      "\n",
      "secret = \"Tbbq Wbo! abj tb fvta hc sbe gur znvyvat yvfg bire ng vclguba.bet\""
     ],
     "language": "python",
     "metadata": {},
     "outputs": [],
     "prompt_number": 3
    },
    {
     "cell_type": "markdown",
     "metadata": {},
     "source": [
      "Solution\n",
      "--------\n",
      "\n",
      "Using Tab-completion, you should have figured out that `this` module has the following things\n",
      "\n",
      "    this.c # a character\n",
      "    this.d # a dictionary, mapping letters to letters\n",
      "    this.s # the string of the Zen of Python poem, encoded like our `secret`\n",
      "    this.c # a counter that's only used in creating `this.d`\n",
      "\n",
      "I found out how `this.c` is actually used by looking at source code using `this??`"
     ]
    },
    {
     "cell_type": "code",
     "collapsed": true,
     "input": [
      "this??"
     ],
     "language": "python",
     "metadata": {},
     "outputs": [],
     "prompt_number": 19
    },
    {
     "cell_type": "markdown",
     "metadata": {},
     "source": [
      "Aha! The last line of the this module is what does the actual decoding!\n",
      "\n",
      "let's just tweak it a bit"
     ]
    },
    {
     "cell_type": "code",
     "collapsed": false,
     "input": [
      "\"\".join([this.d.get(c, c) for c in secret])"
     ],
     "language": "python",
     "metadata": {},
     "outputs": [
      {
       "output_type": "pyout",
       "prompt_number": 20,
       "text": [
        "'Good Job! now go sign up for the mailing list over at ipython.org'"
       ]
      }
     ],
     "prompt_number": 20
    },
    {
     "cell_type": "markdown",
     "metadata": {},
     "source": [
      "Timing information\n",
      "------------------\n",
      "\n",
      "\n",
      "\n",
      "Josh mentioned that there are two range commands, `range` and `xrange`. \n",
      "\n",
      "\n",
      "\n",
      "Run the code below to see which one is faster, and then read the documentation for the two to see why this is the case."
     ]
    },
    {
     "cell_type": "code",
     "collapsed": true,
     "input": [
      "timeit?"
     ],
     "language": "python",
     "metadata": {},
     "outputs": []
    },
    {
     "cell_type": "code",
     "collapsed": false,
     "input": [
      "%timeit range(100)"
     ],
     "language": "python",
     "metadata": {},
     "outputs": [
      {
       "output_type": "stream",
       "stream": "stdout",
       "text": [
        "1000000 loops, best of 3: 523 ns per loop"
       ]
      }
     ],
     "prompt_number": 21
    },
    {
     "cell_type": "code",
     "collapsed": false,
     "input": [
      "%timeit xrange(100)"
     ],
     "language": "python",
     "metadata": {},
     "outputs": [
      {
       "output_type": "stream",
       "stream": "stdout",
       "text": [
        "10000000 loops, best of 3: 105 ns per loop"
       ]
      }
     ],
     "prompt_number": 22
    },
    {
     "cell_type": "code",
     "collapsed": true,
     "input": [
      "range?"
     ],
     "language": "python",
     "metadata": {},
     "outputs": [],
     "prompt_number": 36
    },
    {
     "cell_type": "code",
     "collapsed": true,
     "input": [
      "xrange?"
     ],
     "language": "python",
     "metadata": {},
     "outputs": [],
     "prompt_number": 37
    },
    {
     "cell_type": "markdown",
     "metadata": {},
     "source": [
      "Configuration file options\n",
      "--------------------------\n",
      "\n",
      "Create the stub default profile (if you haven't already)\n",
      "\n",
      "\n",
      "\n",
      "    $ ipython profile create\n",
      "\n",
      "\n",
      "\n",
      "This will create the stubs for the default profile\n",
      "\n",
      "now you can change these defaults.\n",
      "\n",
      "\n",
      "\n",
      "To find where your profile is stored:\n",
      "\n",
      "\n",
      "\n",
      "    In [1]: import IPython\n",
      "\n",
      "    In [2]: IPython.utils.path.locate_profile()\n",
      "\n",
      "\n",
      "\n",
      "Example:if you want the `_` and `__` methods to show up by default when doing tab-completion \n",
      "\n",
      "\n",
      "\n",
      "    c.IPCompleter.omit__names\n",
      "\n",
      "Another example: you can add your own startup message (or execute your desired commands at startup) like I have:\n",
      "\n",
      "    .../profile_default/startup/README\n",
      "\n",
      "\n",
      "\n",
      "\n",
      "\n",
      "\n",
      "    "
     ]
    },
    {
     "cell_type": "code",
     "collapsed": false,
     "input": [
      "import IPython\n",
      "IPython.utils.path.locate_profile()"
     ],
     "language": "python",
     "metadata": {},
     "outputs": [
      {
       "output_type": "pyout",
       "prompt_number": 30,
       "text": [
        "u'/home/pi/.ipython/profile_default'"
       ]
      }
     ],
     "prompt_number": 30
    },
    {
     "cell_type": "code",
     "collapsed": false,
     "input": [
      "IPython.utils.path.locate_profile()+'/startup/README'"
     ],
     "language": "python",
     "metadata": {},
     "outputs": [
      {
       "output_type": "pyout",
       "prompt_number": 31,
       "text": [
        "u'/home/pi/.ipython/profile_default/startup/README'"
       ]
      }
     ],
     "prompt_number": 31
    },
    {
     "cell_type": "code",
     "collapsed": true,
     "input": [
      "aperture_code = '''\"\"\" \n",
      "                                   ,=:;//;:-,.              \n",
      "                              ,;%+,./H#M@MM@@@H: .          \n",
      "                           ,/X@MMMH%-,=%MM@M@@M+ +X/,       \n",
      "                         -+@MMMM@MMMMX;,-+HM@@M$ ;MM@+-     \n",
      "                       ./@#M@M@HHHXXXXX+- .;X@MX -M@@M@;    \n",
      "                      .,=:=-=---.            =%@, HM@@MM%,  \n",
      "                      ;+%%%$$XH%-              ,. XM@@@#@=  \n",
      "                     :MM@MMMM@;.                  $M@M@/.-= \n",
      "                     $M@@@MM+.                    /MM$- /@X \n",
      "                    -@@@@#X= .                    :@: :H@M@,\n",
      "                    =M@M@; -H/                    . ,XMM@@@,\n",
      "                    .$#%..+MM%                    ,+@M@@@@H.\n",
      "                     ;= ;HM@MX                  ./HMM@MMMM/ \n",
      "                      ,XM@@@@H. ,              =$@HHX$%+%/  \n",
      "                      ,XM@@@@@,.H%-           .--------=.   \n",
      "                       .%MM@@M= XMM$:. -+%$$$XXHHH@@@MM%.   \n",
      "                         =XMMM/ +M@MMH+-,;H#MM@MM@MMMX=     \n",
      "                           =%M% ;M@@@MM@$=.-$@#M@M@%=       \n",
      "                             ,= =@MMMMMMM#H/,-+$+:,         \n",
      "                                 .-:/+%%%%++=               \n",
      "                                                            \n",
      "                         There is research to be done      \"\"\"\n",
      "import time\n",
      "time.sleep(.1)\n",
      "print __doc__'''"
     ],
     "language": "python",
     "metadata": {},
     "outputs": [],
     "prompt_number": 33
    },
    {
     "cell_type": "code",
     "collapsed": true,
     "input": [
      "filepath = IPython.utils.path.locate_profile()+'/startup/aperture.py'\n",
      "with file(filepath, 'w') as f:\n",
      "    f.write(aperture_code)"
     ],
     "language": "python",
     "metadata": {},
     "outputs": [],
     "prompt_number": 35
    },
    {
     "cell_type": "code",
     "collapsed": true,
     "input": [],
     "language": "python",
     "metadata": {},
     "outputs": []
    }
   ],
   "metadata": {}
  }
 ]
}