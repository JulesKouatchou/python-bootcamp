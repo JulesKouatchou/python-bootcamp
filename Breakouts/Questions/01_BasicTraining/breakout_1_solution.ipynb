{
 "metadata": {
  "name": ""
 },
 "nbformat": 3,
 "nbformat_minor": 0,
 "worksheets": [
  {
   "cells": [
    {
     "cell_type": "code",
     "collapsed": false,
     "input": [
      "%%writefile b1sol.py\n",
      "## solutions to the breakout #1 (Day 1)\n",
      "sent = \"\"\n",
      "while True:\n",
      "    newword = raw_input(\"Please enter a word in the sentence (enter . ! or ? to end.): \")\n",
      "    if newword == \".\" or newword == \"?\" or newword == \"!\":\n",
      "        if len(sent) > 0:\n",
      "            # get rid of the nasty space we added in\n",
      "            sent = sent[:-1]\n",
      "        sent += newword\n",
      "        break\n",
      "    \n",
      "    sent += newword + \" \"\n",
      "    print \"...currently: \" + sent\n",
      "print \"--->\" + sent\n",
      "###  created by Josh Bloom at UC Berkeley, 2010,2012,2013 (ucbpythonclass+bootcamp@gmail.com)"
     ],
     "language": "python",
     "metadata": {},
     "outputs": [
      {
       "output_type": "stream",
       "stream": "stdout",
       "text": [
        "Overwriting b1sol.py\n"
       ]
      }
     ],
     "prompt_number": 2
    },
    {
     "cell_type": "code",
     "collapsed": false,
     "input": [],
     "language": "python",
     "metadata": {},
     "outputs": []
    }
   ],
   "metadata": {}
  }
 ]
}